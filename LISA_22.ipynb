{
 "cells": [
  {
   "cell_type": "markdown",
   "metadata": {
    "id": "9oTk17rkERmJ"
   },
   "source": [
    "### Data Types and Operators\n",
    "\n"
   ]
  },
  {
   "cell_type": "markdown",
   "metadata": {
    "id": "cI_sC8kqXwmB"
   },
   "source": [
    "**Data Types** <br>\n",
    "The Type of data determines the time of operations that can be performed on an element\n",
    "\n",
    "* Integer\n",
    "* Float\n",
    "* String\n",
    "* Bool\n",
    "* List\n",
    "* Array"
   ]
  },
  {
   "cell_type": "markdown",
   "metadata": {
    "id": "wv8gWHwEI6T1"
   },
   "source": [
    "###### Arithmetic Operators\n",
    "* **+** *Addition*  \n",
    "* **-** *Subrataction* \n",
    "* **/** *Division* \n",
    "* *' Multiplication\n",
    "* **%** Mod (the remainder after dividing) \n",
    "* *** Exponentiation* \n",
    "* **//** Round to the nearest integer"
   ]
  },
  {
   "cell_type": "code",
   "execution_count": null,
   "metadata": {
    "collapsed": true
   },
   "outputs": [],
   "source": []
  },
  {
   "cell_type": "code",
   "execution_count": 6,
   "metadata": {
    "colab": {
     "base_uri": "https://localhost:8080/"
    },
    "id": "1klwiSblMJ0O",
    "outputId": "23357f25-07a0-47a4-e854-d8b1d0dda2a9"
   },
   "outputs": [
    {
     "name": "stdout",
     "output_type": "stream",
     "text": [
      "140\n"
     ]
    }
   ],
   "source": [
    "a=6*20\n",
    "b=8+12\n",
    "z=a+b\n",
    "print(z)"
   ]
  },
  {
   "cell_type": "code",
   "execution_count": 7,
   "metadata": {
    "colab": {
     "base_uri": "https://localhost:8080/"
    },
    "id": "4knDDlTnLn5P",
    "outputId": "5295104c-6e56-4765-fe64-f65a86e571ba"
   },
   "outputs": [
    {
     "name": "stdout",
     "output_type": "stream",
     "text": [
      "144.66666666666666\n"
     ]
    }
   ],
   "source": [
    "#Division\n",
    "print(14/3+z)"
   ]
  },
  {
   "cell_type": "code",
   "execution_count": 8,
   "metadata": {
    "colab": {
     "base_uri": "https://localhost:8080/"
    },
    "id": "Cn0XBPwhPbFY",
    "outputId": "e337ce44-c4eb-48d3-ed7a-ebfaf2e0db35"
   },
   "outputs": [
    {
     "name": "stdout",
     "output_type": "stream",
     "text": [
      "4\n"
     ]
    }
   ],
   "source": [
    "#Integer Division\n",
    "print(14//3)"
   ]
  },
  {
   "cell_type": "code",
   "execution_count": 9,
   "metadata": {
    "colab": {
     "base_uri": "https://localhost:8080/"
    },
    "id": "WDRz6Zh9MDkY",
    "outputId": "b6b81881-6b80-4e67-dd05-4b9d35566c42"
   },
   "outputs": [
    {
     "name": "stdout",
     "output_type": "stream",
     "text": [
      "2\n"
     ]
    }
   ],
   "source": [
    "# Mod\n",
    "print(14%3)"
   ]
  },
  {
   "cell_type": "markdown",
   "metadata": {
    "id": "sdbmPGj3Nqny"
   },
   "source": [
    "The code above return the numerator of the mixed fraction, <br>\n",
    "$4$\n",
    "$\\dfrac{2}{3}$"
   ]
  },
  {
   "cell_type": "markdown",
   "metadata": {
    "id": "mhx2mNMVP8c2"
   },
   "source": [
    "**Boolean/Comparison Operators**: Operators whose output are either True or False <br>\n",
    "They are usually used in conditional statements to perform a series of instructions if a condition is met."
   ]
  },
  {
   "cell_type": "code",
   "execution_count": 10,
   "metadata": {
    "colab": {
     "base_uri": "https://localhost:8080/"
    },
    "id": "v2ZbjqsMP73z",
    "outputId": "6557962f-08b5-4db3-c98d-8e69ba842645"
   },
   "outputs": [
    {
     "name": "stdout",
     "output_type": "stream",
     "text": [
      "True\n"
     ]
    }
   ],
   "source": [
    "print(5>2)"
   ]
  },
  {
   "cell_type": "code",
   "execution_count": 8,
   "metadata": {
    "colab": {
     "base_uri": "https://localhost:8080/"
    },
    "id": "WLy0853jRpVa",
    "outputId": "f9f5b83b-41ff-4487-effa-bbee4854793b"
   },
   "outputs": [
    {
     "name": "stdout",
     "output_type": "stream",
     "text": [
      "False\n"
     ]
    }
   ],
   "source": [
    "print(5<2)"
   ]
  },
  {
   "cell_type": "code",
   "execution_count": null,
   "metadata": {
    "collapsed": true
   },
   "outputs": [],
   "source": []
  },
  {
   "cell_type": "markdown",
   "metadata": {
    "id": "M5ADL6laS5Q0"
   },
   "source": [
    "#### Assignment Operators vs Boolean Operators <br>\n",
    "The '=' operator is used to assign value to a variable, whlie the '==' is used to compare two entities\""
   ]
  },
  {
   "cell_type": "code",
   "execution_count": 11,
   "metadata": {
    "colab": {
     "base_uri": "https://localhost:8080/"
    },
    "id": "JlNxPljlRwxW",
    "outputId": "a6ae387b-3972-4ac0-995a-0a411e00f1d7"
   },
   "outputs": [
    {
     "name": "stdout",
     "output_type": "stream",
     "text": [
      "5\n"
     ]
    }
   ],
   "source": [
    "x=5\n",
    "print(x)"
   ]
  },
  {
   "cell_type": "code",
   "execution_count": 9,
   "metadata": {
    "colab": {
     "base_uri": "https://localhost:8080/"
    },
    "id": "ik6PxeWJTQoT",
    "outputId": "1008fdb6-1d82-4af8-df7a-17ce5807ff9e"
   },
   "outputs": [
    {
     "name": "stdout",
     "output_type": "stream",
     "text": [
      "True\n"
     ]
    }
   ],
   "source": [
    "print(x==5)"
   ]
  },
  {
   "cell_type": "markdown",
   "metadata": {
    "id": "Uy41_qnZEs88"
   },
   "source": [
    "### List, Dictionary and Array"
   ]
  },
  {
   "cell_type": "code",
   "execution_count": 14,
   "metadata": {
    "id": "_ET0fhUCTnbM"
   },
   "outputs": [],
   "source": [
    "Names= ['FUTA', 'OAU', 'UI', 5, True]\n",
    "#List are often used to assign a set of elements to an operation or an entity, \n",
    "#for instance, you may want to add a list of columns names to a dataframe\n",
    "# or loop through a list to perform a series operation"
   ]
  },
  {
   "cell_type": "code",
   "execution_count": 15,
   "metadata": {
    "colab": {
     "base_uri": "https://localhost:8080/",
     "height": 0
    },
    "id": "l0EoUZ-jWuI5",
    "outputId": "b9001ba3-4694-4e55-cadd-0b152d581f27"
   },
   "outputs": [
    {
     "data": {
      "text/plain": [
       "'FUTA'"
      ]
     },
     "execution_count": 15,
     "metadata": {},
     "output_type": "execute_result"
    }
   ],
   "source": [
    "Names[0]"
   ]
  },
  {
   "cell_type": "code",
   "execution_count": 16,
   "metadata": {
    "colab": {
     "base_uri": "https://localhost:8080/"
    },
    "id": "0RdSs9LIW9Zz",
    "outputId": "007b49c6-3fe2-4359-dcbd-2e83f00d9d78"
   },
   "outputs": [
    {
     "data": {
      "text/plain": [
       "5"
      ]
     },
     "execution_count": 16,
     "metadata": {},
     "output_type": "execute_result"
    }
   ],
   "source": [
    "Names[3]"
   ]
  },
  {
   "cell_type": "code",
   "execution_count": 24,
   "metadata": {
    "id": "stGelK6xW-dT"
   },
   "outputs": [],
   "source": [
    "EvenNo = [2,4,6,8,10]\n",
    "OddNo = [1,3,5,7,9,8]\n"
   ]
  },
  {
   "cell_type": "code",
   "execution_count": 25,
   "metadata": {
    "colab": {
     "base_uri": "https://localhost:8080/"
    },
    "id": "VH2M4QqXXADF",
    "outputId": "91b11c76-14b1-45a8-e157-325a56682cf7"
   },
   "outputs": [
    {
     "name": "stdout",
     "output_type": "stream",
     "text": [
      "[2, 4, 6, 8, 10, 1, 3, 5, 7, 9, 8]\n"
     ]
    }
   ],
   "source": [
    "t=EvenNo + OddNo\n",
    "print(t)"
   ]
  },
  {
   "cell_type": "code",
   "execution_count": 15,
   "metadata": {
    "colab": {
     "base_uri": "https://localhost:8080/"
    },
    "id": "Ive35sEHW__s",
    "outputId": "6ae6494c-5c72-4cc9-e045-7b8f88b9e4fb"
   },
   "outputs": [
    {
     "data": {
      "text/plain": [
       "[2, 4, 6, 8, 10, 2, 4, 6, 8, 10]"
      ]
     },
     "execution_count": 15,
     "metadata": {},
     "output_type": "execute_result"
    }
   ],
   "source": [
    "EvenNo*2"
   ]
  },
  {
   "cell_type": "code",
   "execution_count": 27,
   "metadata": {},
   "outputs": [
    {
     "name": "stdout",
     "output_type": "stream",
     "text": [
      "[2, 4, 6, 8, 10, 1, 3, 5, 7, 9, 8, 2, 4, 6, 8, 10, 1, 3, 5, 7, 9, 8]\n"
     ]
    }
   ],
   "source": [
    "print(t*2)"
   ]
  },
  {
   "cell_type": "code",
   "execution_count": 16,
   "metadata": {
    "collapsed": true,
    "id": "SLrv0yqCW_8C"
   },
   "outputs": [],
   "source": [
    "#The code below will return an error because a the variable is a list not a vector\n",
    "# EvenNo.mean()"
   ]
  },
  {
   "cell_type": "markdown",
   "metadata": {
    "id": "EWlWM-8CZdYa"
   },
   "source": [
    "**Array:** Vectors <br>\n",
    "The Numpy Library helps us define, generate and work with array in python"
   ]
  },
  {
   "cell_type": "code",
   "execution_count": 17,
   "metadata": {
    "collapsed": true,
    "id": "JVAXKW-UZppt"
   },
   "outputs": [],
   "source": [
    "import numpy as np"
   ]
  },
  {
   "cell_type": "code",
   "execution_count": 18,
   "metadata": {
    "collapsed": true,
    "id": "PQzzOMl4Z-Q6"
   },
   "outputs": [],
   "source": [
    "even_no = np.array([2,4,6,8,10])\n",
    "odd_no = np.array([1,3,5,7,9])"
   ]
  },
  {
   "cell_type": "code",
   "execution_count": 19,
   "metadata": {
    "colab": {
     "base_uri": "https://localhost:8080/"
    },
    "id": "8yvB37P9aNln",
    "outputId": "78ee5dc2-69b8-4287-f6df-16990e4b46c3"
   },
   "outputs": [
    {
     "data": {
      "text/plain": [
       "array([ 3,  7, 11, 15, 19])"
      ]
     },
     "execution_count": 19,
     "metadata": {},
     "output_type": "execute_result"
    }
   ],
   "source": [
    "even_no+odd_no"
   ]
  },
  {
   "cell_type": "markdown",
   "metadata": {
    "id": "gMGXsnwTeKN5"
   },
   "source": [
    "--- \n",
    "**Array Generation**"
   ]
  },
  {
   "cell_type": "code",
   "execution_count": 20,
   "metadata": {
    "colab": {
     "base_uri": "https://localhost:8080/"
    },
    "id": "ZcU6aQ5IetrJ",
    "outputId": "22fc2929-c78d-40bf-a3d1-67709fd62711"
   },
   "outputs": [
    {
     "data": {
      "text/plain": [
       "array([ 2,  4,  6,  8, 10, 12, 14, 16, 18])"
      ]
     },
     "execution_count": 20,
     "metadata": {},
     "output_type": "execute_result"
    }
   ],
   "source": [
    "np.arange(2,20,2)"
   ]
  },
  {
   "cell_type": "code",
   "execution_count": 21,
   "metadata": {
    "colab": {
     "base_uri": "https://localhost:8080/"
    },
    "id": "P_HN9BfNacVv",
    "outputId": "028eeb9b-73ad-4d12-d03b-f748343a1041"
   },
   "outputs": [
    {
     "data": {
      "text/plain": [
       "array([[0., 0., 0.],\n",
       "       [0., 0., 0.],\n",
       "       [0., 0., 0.]])"
      ]
     },
     "execution_count": 21,
     "metadata": {},
     "output_type": "execute_result"
    }
   ],
   "source": [
    "#Generate Zero matrix probably as an initialization\n",
    "np.zeros([3,3])"
   ]
  },
  {
   "cell_type": "code",
   "execution_count": 22,
   "metadata": {
    "colab": {
     "base_uri": "https://localhost:8080/"
    },
    "id": "N8zNufxzcldW",
    "outputId": "6f979517-9196-41ca-84f9-b05cbe9cfcb5"
   },
   "outputs": [
    {
     "data": {
      "text/plain": [
       "array([21, 26, 36, 48,  3, 36, 40, 13, 26, 17])"
      ]
     },
     "execution_count": 22,
     "metadata": {},
     "output_type": "execute_result"
    }
   ],
   "source": [
    "#Ten Random Integers between 1 and 50\n",
    "\n",
    "np.random.randint(1,50,10)"
   ]
  },
  {
   "cell_type": "code",
   "execution_count": 23,
   "metadata": {
    "colab": {
     "base_uri": "https://localhost:8080/"
    },
    "id": "qbV6mPe1bwCi",
    "outputId": "aa5a0b4f-4dee-432d-b89a-81741be40c3f"
   },
   "outputs": [
    {
     "data": {
      "text/plain": [
       "array([0.53285279, 0.9731479 , 0.48946968, 0.57366388, 0.78722219])"
      ]
     },
     "execution_count": 23,
     "metadata": {},
     "output_type": "execute_result"
    }
   ],
   "source": [
    "# 3x2 Random arrays\n",
    " \n",
    "np.random.rand(5)"
   ]
  },
  {
   "cell_type": "code",
   "execution_count": 24,
   "metadata": {
    "colab": {
     "base_uri": "https://localhost:8080/"
    },
    "id": "re7PgpM9gBe_",
    "outputId": "a747c86c-ac6e-44c6-fcbe-32720123ef8f"
   },
   "outputs": [
    {
     "data": {
      "text/plain": [
       "array([20.38173003, 21.15824731, 17.39821671, 18.8794584 , 19.25802499,\n",
       "       22.97402027, 17.46390187, 18.76147187, 18.5938092 , 26.10933575,\n",
       "       16.21733196,  7.14935162])"
      ]
     },
     "execution_count": 24,
     "metadata": {},
     "output_type": "execute_result"
    }
   ],
   "source": [
    "# Normally Distributed Data \n",
    "mydata = np.random.normal(20,4,12)\n",
    "mydata"
   ]
  },
  {
   "cell_type": "code",
   "execution_count": 25,
   "metadata": {
    "colab": {
     "base_uri": "https://localhost:8080/"
    },
    "id": "YmemUx6eaiDg",
    "outputId": "77f1e528-bc18-4aef-9c6a-c816129f23f9"
   },
   "outputs": [
    {
     "data": {
      "text/plain": [
       "18.695408331042987"
      ]
     },
     "execution_count": 25,
     "metadata": {},
     "output_type": "execute_result"
    }
   ],
   "source": [
    "mydata.mean()"
   ]
  },
  {
   "cell_type": "code",
   "execution_count": 26,
   "metadata": {
    "colab": {
     "base_uri": "https://localhost:8080/"
    },
    "id": "oIxrGhmygd8A",
    "outputId": "1a6675ae-962b-400d-e896-d9ccc88796a6"
   },
   "outputs": [
    {
     "data": {
      "text/plain": [
       "4.332039527898977"
      ]
     },
     "execution_count": 26,
     "metadata": {},
     "output_type": "execute_result"
    }
   ],
   "source": [
    "mydata.std()"
   ]
  },
  {
   "cell_type": "markdown",
   "metadata": {
    "id": "NTD8yiuAFMsU"
   },
   "source": [
    "### Functions and Python Libraries <br>\n",
    "A **Function** is a block of code that can be used to perform a specific task. <br> They are often built if there is a need to perform a repititive task across program <br>\n",
    "They can be **in-built** (e.g. mean, std) or **User-defined** (e.g. A custom formula such as z-statistics) <br> <br>\n",
    "\n",
    "A Python Library is an extensive curated collection of well-documented modules. <br>\n",
    "It works like the R libraries such as Tidyverse, dplyr. They can be installed easily with pip and are called into your program using the **'import'**\n",
    "\n",
    "\n",
    "---\n",
    "\n",
    "*   Pip install\n",
    "*   Import\n",
    "*   Methods\n"
   ]
  },
  {
   "cell_type": "code",
   "execution_count": 29,
   "metadata": {
    "id": "-k6LnQ8Ag-V9"
   },
   "outputs": [],
   "source": [
    "import pandas as pd\n",
    "import matplotlib.pyplot as plt\n",
    "import numpy as np\n",
    "# import researchpy as rp"
   ]
  },
  {
   "cell_type": "markdown",
   "metadata": {
    "id": "YdyMYoOAE5Dl"
   },
   "source": [
    "### Pandas DataFrame, Data Analysis\n",
    "#### (Sales Analysis)\n",
    "---\n",
    "* Read csv\n",
    "* Basic Analysis\n",
    "* Basic Visualization\n",
    "* Statistical Analysis"
   ]
  },
  {
   "cell_type": "code",
   "execution_count": null,
   "metadata": {},
   "outputs": [],
   "source": []
  },
  {
   "cell_type": "markdown",
   "metadata": {
    "id": "eGXvS0IkFAWt"
   },
   "source": [
    "\n"
   ]
  },
  {
   "cell_type": "code",
   "execution_count": 30,
   "metadata": {
    "colab": {
     "base_uri": "https://localhost:8080/"
    },
    "id": "Fsky74NjDoOT",
    "outputId": "9074e81e-b5cf-40d4-aca6-5838e6621540"
   },
   "outputs": [
    {
     "name": "stdout",
     "output_type": "stream",
     "text": [
      "Mounted at /content/drive\n"
     ]
    }
   ],
   "source": [
    "# from google.colab import drive\n",
    "# drive.mount('/content/drive')"
   ]
  },
  {
   "cell_type": "code",
   "execution_count": 1,
   "metadata": {
    "colab": {
     "base_uri": "https://localhost:8080/"
    },
    "collapsed": true,
    "id": "uq9V9dNdyV1I",
    "outputId": "eeddfb1b-8da1-49c7-d3b9-8b5eab0ff755"
   },
   "outputs": [],
   "source": [
    "# import os\n",
    "# os.chdir('drive/My Drive/dataset')\n",
    "# os.listdir()"
   ]
  },
  {
   "cell_type": "markdown",
   "metadata": {
    "id": "yYTXicWF1Ts4"
   },
   "source": [
    "#### Tipsy Online Store <br>\n",
    "* Profit by Category\n",
    "* Total Sales per year\n",
    "* Cost of shipping across Region"
   ]
  },
  {
   "cell_type": "code",
   "execution_count": 28,
   "metadata": {
    "id": "4eb1DjZauKOi"
   },
   "outputs": [
    {
     "ename": "NameError",
     "evalue": "name 'pd' is not defined",
     "output_type": "error",
     "traceback": [
      "\u001b[1;31m---------------------------------------------------------------------------\u001b[0m",
      "\u001b[1;31mNameError\u001b[0m                                 Traceback (most recent call last)",
      "Input \u001b[1;32mIn [28]\u001b[0m, in \u001b[0;36m<cell line: 1>\u001b[1;34m()\u001b[0m\n\u001b[1;32m----> 1\u001b[0m df \u001b[38;5;241m=\u001b[39m \u001b[43mpd\u001b[49m\u001b[38;5;241m.\u001b[39mread_excel(\u001b[38;5;124m'\u001b[39m\u001b[38;5;124msuperstore_sales.xlsx\u001b[39m\u001b[38;5;124m'\u001b[39m)\n",
      "\u001b[1;31mNameError\u001b[0m: name 'pd' is not defined"
     ]
    }
   ],
   "source": [
    "df = pd.read_excel('superstore_sales.xlsx')"
   ]
  },
  {
   "cell_type": "code",
   "execution_count": 35,
   "metadata": {
    "colab": {
     "base_uri": "https://localhost:8080/",
     "height": 438
    },
    "id": "iJhatL9BwydQ",
    "outputId": "d0680e10-fd69-4178-cf6e-9a1cb102fd5d"
   },
   "outputs": [
    {
     "data": {
      "text/html": [
       "\n",
       "  <div id=\"df-661218c7-b057-457e-8f2c-09e3166b1bec\">\n",
       "    <div class=\"colab-df-container\">\n",
       "      <div>\n",
       "<style scoped>\n",
       "    .dataframe tbody tr th:only-of-type {\n",
       "        vertical-align: middle;\n",
       "    }\n",
       "\n",
       "    .dataframe tbody tr th {\n",
       "        vertical-align: top;\n",
       "    }\n",
       "\n",
       "    .dataframe thead th {\n",
       "        text-align: right;\n",
       "    }\n",
       "</style>\n",
       "<table border=\"1\" class=\"dataframe\">\n",
       "  <thead>\n",
       "    <tr style=\"text-align: right;\">\n",
       "      <th></th>\n",
       "      <th>order_id</th>\n",
       "      <th>order_date</th>\n",
       "      <th>ship_date</th>\n",
       "      <th>ship_mode</th>\n",
       "      <th>customer_name</th>\n",
       "      <th>segment</th>\n",
       "      <th>state</th>\n",
       "      <th>country</th>\n",
       "      <th>market</th>\n",
       "      <th>region</th>\n",
       "      <th>...</th>\n",
       "      <th>category</th>\n",
       "      <th>sub_category</th>\n",
       "      <th>product_name</th>\n",
       "      <th>sales</th>\n",
       "      <th>quantity</th>\n",
       "      <th>discount</th>\n",
       "      <th>profit</th>\n",
       "      <th>shipping_cost</th>\n",
       "      <th>order_priority</th>\n",
       "      <th>year</th>\n",
       "    </tr>\n",
       "  </thead>\n",
       "  <tbody>\n",
       "    <tr>\n",
       "      <th>0</th>\n",
       "      <td>AG-2011-2040</td>\n",
       "      <td>2011-01-01</td>\n",
       "      <td>2011-01-06</td>\n",
       "      <td>Standard Class</td>\n",
       "      <td>Toby Braunhardt</td>\n",
       "      <td>Consumer</td>\n",
       "      <td>Constantine</td>\n",
       "      <td>Algeria</td>\n",
       "      <td>Africa</td>\n",
       "      <td>Africa</td>\n",
       "      <td>...</td>\n",
       "      <td>Office Supplies</td>\n",
       "      <td>Storage</td>\n",
       "      <td>Tenex Lockers, Blue</td>\n",
       "      <td>408.300</td>\n",
       "      <td>2</td>\n",
       "      <td>0.0</td>\n",
       "      <td>106.140</td>\n",
       "      <td>35.46</td>\n",
       "      <td>Medium</td>\n",
       "      <td>2011</td>\n",
       "    </tr>\n",
       "    <tr>\n",
       "      <th>1</th>\n",
       "      <td>IN-2011-47883</td>\n",
       "      <td>2011-01-01</td>\n",
       "      <td>2011-01-08</td>\n",
       "      <td>Standard Class</td>\n",
       "      <td>Joseph Holt</td>\n",
       "      <td>Consumer</td>\n",
       "      <td>New South Wales</td>\n",
       "      <td>Australia</td>\n",
       "      <td>APAC</td>\n",
       "      <td>Oceania</td>\n",
       "      <td>...</td>\n",
       "      <td>Office Supplies</td>\n",
       "      <td>Supplies</td>\n",
       "      <td>Acme Trimmer, High Speed</td>\n",
       "      <td>120.366</td>\n",
       "      <td>3</td>\n",
       "      <td>0.1</td>\n",
       "      <td>36.036</td>\n",
       "      <td>9.72</td>\n",
       "      <td>Medium</td>\n",
       "      <td>2011</td>\n",
       "    </tr>\n",
       "    <tr>\n",
       "      <th>2</th>\n",
       "      <td>HU-2011-1220</td>\n",
       "      <td>2011-01-01</td>\n",
       "      <td>2011-01-05</td>\n",
       "      <td>Second Class</td>\n",
       "      <td>Annie Thurman</td>\n",
       "      <td>Consumer</td>\n",
       "      <td>Budapest</td>\n",
       "      <td>Hungary</td>\n",
       "      <td>EMEA</td>\n",
       "      <td>EMEA</td>\n",
       "      <td>...</td>\n",
       "      <td>Office Supplies</td>\n",
       "      <td>Storage</td>\n",
       "      <td>Tenex Box, Single Width</td>\n",
       "      <td>66.120</td>\n",
       "      <td>4</td>\n",
       "      <td>0.0</td>\n",
       "      <td>29.640</td>\n",
       "      <td>8.17</td>\n",
       "      <td>High</td>\n",
       "      <td>2011</td>\n",
       "    </tr>\n",
       "    <tr>\n",
       "      <th>3</th>\n",
       "      <td>IT-2011-3647632</td>\n",
       "      <td>2011-01-01</td>\n",
       "      <td>2011-01-05</td>\n",
       "      <td>Second Class</td>\n",
       "      <td>Eugene Moren</td>\n",
       "      <td>Home Office</td>\n",
       "      <td>Stockholm</td>\n",
       "      <td>Sweden</td>\n",
       "      <td>EU</td>\n",
       "      <td>North</td>\n",
       "      <td>...</td>\n",
       "      <td>Office Supplies</td>\n",
       "      <td>Paper</td>\n",
       "      <td>Enermax Note Cards, Premium</td>\n",
       "      <td>44.865</td>\n",
       "      <td>3</td>\n",
       "      <td>0.5</td>\n",
       "      <td>-26.055</td>\n",
       "      <td>4.82</td>\n",
       "      <td>High</td>\n",
       "      <td>2011</td>\n",
       "    </tr>\n",
       "    <tr>\n",
       "      <th>4</th>\n",
       "      <td>IN-2011-47883</td>\n",
       "      <td>2011-01-01</td>\n",
       "      <td>2011-01-08</td>\n",
       "      <td>Standard Class</td>\n",
       "      <td>Joseph Holt</td>\n",
       "      <td>Consumer</td>\n",
       "      <td>New South Wales</td>\n",
       "      <td>Australia</td>\n",
       "      <td>APAC</td>\n",
       "      <td>Oceania</td>\n",
       "      <td>...</td>\n",
       "      <td>Furniture</td>\n",
       "      <td>Furnishings</td>\n",
       "      <td>Eldon Light Bulb, Duo Pack</td>\n",
       "      <td>113.670</td>\n",
       "      <td>5</td>\n",
       "      <td>0.1</td>\n",
       "      <td>37.770</td>\n",
       "      <td>4.70</td>\n",
       "      <td>Medium</td>\n",
       "      <td>2011</td>\n",
       "    </tr>\n",
       "  </tbody>\n",
       "</table>\n",
       "<p>5 rows × 21 columns</p>\n",
       "</div>\n",
       "      <button class=\"colab-df-convert\" onclick=\"convertToInteractive('df-661218c7-b057-457e-8f2c-09e3166b1bec')\"\n",
       "              title=\"Convert this dataframe to an interactive table.\"\n",
       "              style=\"display:none;\">\n",
       "        \n",
       "  <svg xmlns=\"http://www.w3.org/2000/svg\" height=\"24px\"viewBox=\"0 0 24 24\"\n",
       "       width=\"24px\">\n",
       "    <path d=\"M0 0h24v24H0V0z\" fill=\"none\"/>\n",
       "    <path d=\"M18.56 5.44l.94 2.06.94-2.06 2.06-.94-2.06-.94-.94-2.06-.94 2.06-2.06.94zm-11 1L8.5 8.5l.94-2.06 2.06-.94-2.06-.94L8.5 2.5l-.94 2.06-2.06.94zm10 10l.94 2.06.94-2.06 2.06-.94-2.06-.94-.94-2.06-.94 2.06-2.06.94z\"/><path d=\"M17.41 7.96l-1.37-1.37c-.4-.4-.92-.59-1.43-.59-.52 0-1.04.2-1.43.59L10.3 9.45l-7.72 7.72c-.78.78-.78 2.05 0 2.83L4 21.41c.39.39.9.59 1.41.59.51 0 1.02-.2 1.41-.59l7.78-7.78 2.81-2.81c.8-.78.8-2.07 0-2.86zM5.41 20L4 18.59l7.72-7.72 1.47 1.35L5.41 20z\"/>\n",
       "  </svg>\n",
       "      </button>\n",
       "      \n",
       "  <style>\n",
       "    .colab-df-container {\n",
       "      display:flex;\n",
       "      flex-wrap:wrap;\n",
       "      gap: 12px;\n",
       "    }\n",
       "\n",
       "    .colab-df-convert {\n",
       "      background-color: #E8F0FE;\n",
       "      border: none;\n",
       "      border-radius: 50%;\n",
       "      cursor: pointer;\n",
       "      display: none;\n",
       "      fill: #1967D2;\n",
       "      height: 32px;\n",
       "      padding: 0 0 0 0;\n",
       "      width: 32px;\n",
       "    }\n",
       "\n",
       "    .colab-df-convert:hover {\n",
       "      background-color: #E2EBFA;\n",
       "      box-shadow: 0px 1px 2px rgba(60, 64, 67, 0.3), 0px 1px 3px 1px rgba(60, 64, 67, 0.15);\n",
       "      fill: #174EA6;\n",
       "    }\n",
       "\n",
       "    [theme=dark] .colab-df-convert {\n",
       "      background-color: #3B4455;\n",
       "      fill: #D2E3FC;\n",
       "    }\n",
       "\n",
       "    [theme=dark] .colab-df-convert:hover {\n",
       "      background-color: #434B5C;\n",
       "      box-shadow: 0px 1px 3px 1px rgba(0, 0, 0, 0.15);\n",
       "      filter: drop-shadow(0px 1px 2px rgba(0, 0, 0, 0.3));\n",
       "      fill: #FFFFFF;\n",
       "    }\n",
       "  </style>\n",
       "\n",
       "      <script>\n",
       "        const buttonEl =\n",
       "          document.querySelector('#df-661218c7-b057-457e-8f2c-09e3166b1bec button.colab-df-convert');\n",
       "        buttonEl.style.display =\n",
       "          google.colab.kernel.accessAllowed ? 'block' : 'none';\n",
       "\n",
       "        async function convertToInteractive(key) {\n",
       "          const element = document.querySelector('#df-661218c7-b057-457e-8f2c-09e3166b1bec');\n",
       "          const dataTable =\n",
       "            await google.colab.kernel.invokeFunction('convertToInteractive',\n",
       "                                                     [key], {});\n",
       "          if (!dataTable) return;\n",
       "\n",
       "          const docLinkHtml = 'Like what you see? Visit the ' +\n",
       "            '<a target=\"_blank\" href=https://colab.research.google.com/notebooks/data_table.ipynb>data table notebook</a>'\n",
       "            + ' to learn more about interactive tables.';\n",
       "          element.innerHTML = '';\n",
       "          dataTable['output_type'] = 'display_data';\n",
       "          await google.colab.output.renderOutput(dataTable, element);\n",
       "          const docLink = document.createElement('div');\n",
       "          docLink.innerHTML = docLinkHtml;\n",
       "          element.appendChild(docLink);\n",
       "        }\n",
       "      </script>\n",
       "    </div>\n",
       "  </div>\n",
       "  "
      ],
      "text/plain": [
       "          order_id order_date  ship_date       ship_mode    customer_name  \\\n",
       "0     AG-2011-2040 2011-01-01 2011-01-06  Standard Class  Toby Braunhardt   \n",
       "1    IN-2011-47883 2011-01-01 2011-01-08  Standard Class      Joseph Holt   \n",
       "2     HU-2011-1220 2011-01-01 2011-01-05    Second Class    Annie Thurman   \n",
       "3  IT-2011-3647632 2011-01-01 2011-01-05    Second Class     Eugene Moren   \n",
       "4    IN-2011-47883 2011-01-01 2011-01-08  Standard Class      Joseph Holt   \n",
       "\n",
       "       segment            state    country  market   region  ...  \\\n",
       "0     Consumer      Constantine    Algeria  Africa   Africa  ...   \n",
       "1     Consumer  New South Wales  Australia    APAC  Oceania  ...   \n",
       "2     Consumer         Budapest    Hungary    EMEA     EMEA  ...   \n",
       "3  Home Office        Stockholm     Sweden      EU    North  ...   \n",
       "4     Consumer  New South Wales  Australia    APAC  Oceania  ...   \n",
       "\n",
       "          category sub_category                 product_name    sales  \\\n",
       "0  Office Supplies      Storage          Tenex Lockers, Blue  408.300   \n",
       "1  Office Supplies     Supplies     Acme Trimmer, High Speed  120.366   \n",
       "2  Office Supplies      Storage      Tenex Box, Single Width   66.120   \n",
       "3  Office Supplies        Paper  Enermax Note Cards, Premium   44.865   \n",
       "4        Furniture  Furnishings   Eldon Light Bulb, Duo Pack  113.670   \n",
       "\n",
       "   quantity  discount   profit  shipping_cost  order_priority  year  \n",
       "0         2       0.0  106.140          35.46          Medium  2011  \n",
       "1         3       0.1   36.036           9.72          Medium  2011  \n",
       "2         4       0.0   29.640           8.17            High  2011  \n",
       "3         3       0.5  -26.055           4.82            High  2011  \n",
       "4         5       0.1   37.770           4.70          Medium  2011  \n",
       "\n",
       "[5 rows x 21 columns]"
      ]
     },
     "execution_count": 35,
     "metadata": {},
     "output_type": "execute_result"
    }
   ],
   "source": [
    "df.head()"
   ]
  },
  {
   "cell_type": "code",
   "execution_count": 36,
   "metadata": {
    "colab": {
     "base_uri": "https://localhost:8080/"
    },
    "id": "4YeCW0sjI-_t",
    "outputId": "18f96b9b-5872-444f-b1b8-7417e424682c"
   },
   "outputs": [
    {
     "data": {
      "text/plain": [
       "(51290, 21)"
      ]
     },
     "execution_count": 36,
     "metadata": {},
     "output_type": "execute_result"
    }
   ],
   "source": [
    "df.shape"
   ]
  },
  {
   "cell_type": "code",
   "execution_count": 37,
   "metadata": {
    "colab": {
     "base_uri": "https://localhost:8080/"
    },
    "id": "etmmeI3408YF",
    "outputId": "1384c1f4-0c12-4ddc-8d60-7c163e36fc61"
   },
   "outputs": [
    {
     "name": "stdout",
     "output_type": "stream",
     "text": [
      "<class 'pandas.core.frame.DataFrame'>\n",
      "RangeIndex: 51290 entries, 0 to 51289\n",
      "Data columns (total 21 columns):\n",
      " #   Column          Non-Null Count  Dtype         \n",
      "---  ------          --------------  -----         \n",
      " 0   order_id        51290 non-null  object        \n",
      " 1   order_date      51290 non-null  datetime64[ns]\n",
      " 2   ship_date       51290 non-null  datetime64[ns]\n",
      " 3   ship_mode       51290 non-null  object        \n",
      " 4   customer_name   51290 non-null  object        \n",
      " 5   segment         51290 non-null  object        \n",
      " 6   state           51290 non-null  object        \n",
      " 7   country         51290 non-null  object        \n",
      " 8   market          51290 non-null  object        \n",
      " 9   region          51290 non-null  object        \n",
      " 10  product_id      51290 non-null  object        \n",
      " 11  category        51290 non-null  object        \n",
      " 12  sub_category    51290 non-null  object        \n",
      " 13  product_name    51290 non-null  object        \n",
      " 14  sales           51290 non-null  float64       \n",
      " 15  quantity        51290 non-null  int64         \n",
      " 16  discount        51290 non-null  float64       \n",
      " 17  profit          51290 non-null  float64       \n",
      " 18  shipping_cost   51290 non-null  float64       \n",
      " 19  order_priority  51290 non-null  object        \n",
      " 20  year            51290 non-null  int64         \n",
      "dtypes: datetime64[ns](2), float64(4), int64(2), object(13)\n",
      "memory usage: 8.2+ MB\n"
     ]
    }
   ],
   "source": [
    "df.info()"
   ]
  },
  {
   "cell_type": "code",
   "execution_count": 38,
   "metadata": {
    "colab": {
     "base_uri": "https://localhost:8080/",
     "height": 300
    },
    "id": "rGp3bST-1CpF",
    "outputId": "cba4da70-5e1f-431b-b3a7-c5dd62930251"
   },
   "outputs": [
    {
     "data": {
      "text/html": [
       "\n",
       "  <div id=\"df-a0e13c21-d110-42ea-a070-b8acedf6f513\">\n",
       "    <div class=\"colab-df-container\">\n",
       "      <div>\n",
       "<style scoped>\n",
       "    .dataframe tbody tr th:only-of-type {\n",
       "        vertical-align: middle;\n",
       "    }\n",
       "\n",
       "    .dataframe tbody tr th {\n",
       "        vertical-align: top;\n",
       "    }\n",
       "\n",
       "    .dataframe thead th {\n",
       "        text-align: right;\n",
       "    }\n",
       "</style>\n",
       "<table border=\"1\" class=\"dataframe\">\n",
       "  <thead>\n",
       "    <tr style=\"text-align: right;\">\n",
       "      <th></th>\n",
       "      <th>sales</th>\n",
       "      <th>quantity</th>\n",
       "      <th>discount</th>\n",
       "      <th>profit</th>\n",
       "      <th>shipping_cost</th>\n",
       "      <th>year</th>\n",
       "    </tr>\n",
       "  </thead>\n",
       "  <tbody>\n",
       "    <tr>\n",
       "      <th>count</th>\n",
       "      <td>51290.000000</td>\n",
       "      <td>51290.000000</td>\n",
       "      <td>51290.000000</td>\n",
       "      <td>51290.000000</td>\n",
       "      <td>51290.000000</td>\n",
       "      <td>51290.000000</td>\n",
       "    </tr>\n",
       "    <tr>\n",
       "      <th>mean</th>\n",
       "      <td>246.490581</td>\n",
       "      <td>3.476545</td>\n",
       "      <td>0.142908</td>\n",
       "      <td>28.641740</td>\n",
       "      <td>26.375818</td>\n",
       "      <td>2012.777208</td>\n",
       "    </tr>\n",
       "    <tr>\n",
       "      <th>std</th>\n",
       "      <td>487.565361</td>\n",
       "      <td>2.278766</td>\n",
       "      <td>0.212280</td>\n",
       "      <td>174.424113</td>\n",
       "      <td>57.296810</td>\n",
       "      <td>1.098931</td>\n",
       "    </tr>\n",
       "    <tr>\n",
       "      <th>min</th>\n",
       "      <td>0.444000</td>\n",
       "      <td>1.000000</td>\n",
       "      <td>0.000000</td>\n",
       "      <td>-6599.978000</td>\n",
       "      <td>0.002000</td>\n",
       "      <td>2011.000000</td>\n",
       "    </tr>\n",
       "    <tr>\n",
       "      <th>25%</th>\n",
       "      <td>30.758625</td>\n",
       "      <td>2.000000</td>\n",
       "      <td>0.000000</td>\n",
       "      <td>0.000000</td>\n",
       "      <td>2.610000</td>\n",
       "      <td>2012.000000</td>\n",
       "    </tr>\n",
       "    <tr>\n",
       "      <th>50%</th>\n",
       "      <td>85.053000</td>\n",
       "      <td>3.000000</td>\n",
       "      <td>0.000000</td>\n",
       "      <td>9.240000</td>\n",
       "      <td>7.790000</td>\n",
       "      <td>2013.000000</td>\n",
       "    </tr>\n",
       "    <tr>\n",
       "      <th>75%</th>\n",
       "      <td>251.053200</td>\n",
       "      <td>5.000000</td>\n",
       "      <td>0.200000</td>\n",
       "      <td>36.810000</td>\n",
       "      <td>24.450000</td>\n",
       "      <td>2014.000000</td>\n",
       "    </tr>\n",
       "    <tr>\n",
       "      <th>max</th>\n",
       "      <td>22638.480000</td>\n",
       "      <td>14.000000</td>\n",
       "      <td>0.850000</td>\n",
       "      <td>8399.976000</td>\n",
       "      <td>933.570000</td>\n",
       "      <td>2014.000000</td>\n",
       "    </tr>\n",
       "  </tbody>\n",
       "</table>\n",
       "</div>\n",
       "      <button class=\"colab-df-convert\" onclick=\"convertToInteractive('df-a0e13c21-d110-42ea-a070-b8acedf6f513')\"\n",
       "              title=\"Convert this dataframe to an interactive table.\"\n",
       "              style=\"display:none;\">\n",
       "        \n",
       "  <svg xmlns=\"http://www.w3.org/2000/svg\" height=\"24px\"viewBox=\"0 0 24 24\"\n",
       "       width=\"24px\">\n",
       "    <path d=\"M0 0h24v24H0V0z\" fill=\"none\"/>\n",
       "    <path d=\"M18.56 5.44l.94 2.06.94-2.06 2.06-.94-2.06-.94-.94-2.06-.94 2.06-2.06.94zm-11 1L8.5 8.5l.94-2.06 2.06-.94-2.06-.94L8.5 2.5l-.94 2.06-2.06.94zm10 10l.94 2.06.94-2.06 2.06-.94-2.06-.94-.94-2.06-.94 2.06-2.06.94z\"/><path d=\"M17.41 7.96l-1.37-1.37c-.4-.4-.92-.59-1.43-.59-.52 0-1.04.2-1.43.59L10.3 9.45l-7.72 7.72c-.78.78-.78 2.05 0 2.83L4 21.41c.39.39.9.59 1.41.59.51 0 1.02-.2 1.41-.59l7.78-7.78 2.81-2.81c.8-.78.8-2.07 0-2.86zM5.41 20L4 18.59l7.72-7.72 1.47 1.35L5.41 20z\"/>\n",
       "  </svg>\n",
       "      </button>\n",
       "      \n",
       "  <style>\n",
       "    .colab-df-container {\n",
       "      display:flex;\n",
       "      flex-wrap:wrap;\n",
       "      gap: 12px;\n",
       "    }\n",
       "\n",
       "    .colab-df-convert {\n",
       "      background-color: #E8F0FE;\n",
       "      border: none;\n",
       "      border-radius: 50%;\n",
       "      cursor: pointer;\n",
       "      display: none;\n",
       "      fill: #1967D2;\n",
       "      height: 32px;\n",
       "      padding: 0 0 0 0;\n",
       "      width: 32px;\n",
       "    }\n",
       "\n",
       "    .colab-df-convert:hover {\n",
       "      background-color: #E2EBFA;\n",
       "      box-shadow: 0px 1px 2px rgba(60, 64, 67, 0.3), 0px 1px 3px 1px rgba(60, 64, 67, 0.15);\n",
       "      fill: #174EA6;\n",
       "    }\n",
       "\n",
       "    [theme=dark] .colab-df-convert {\n",
       "      background-color: #3B4455;\n",
       "      fill: #D2E3FC;\n",
       "    }\n",
       "\n",
       "    [theme=dark] .colab-df-convert:hover {\n",
       "      background-color: #434B5C;\n",
       "      box-shadow: 0px 1px 3px 1px rgba(0, 0, 0, 0.15);\n",
       "      filter: drop-shadow(0px 1px 2px rgba(0, 0, 0, 0.3));\n",
       "      fill: #FFFFFF;\n",
       "    }\n",
       "  </style>\n",
       "\n",
       "      <script>\n",
       "        const buttonEl =\n",
       "          document.querySelector('#df-a0e13c21-d110-42ea-a070-b8acedf6f513 button.colab-df-convert');\n",
       "        buttonEl.style.display =\n",
       "          google.colab.kernel.accessAllowed ? 'block' : 'none';\n",
       "\n",
       "        async function convertToInteractive(key) {\n",
       "          const element = document.querySelector('#df-a0e13c21-d110-42ea-a070-b8acedf6f513');\n",
       "          const dataTable =\n",
       "            await google.colab.kernel.invokeFunction('convertToInteractive',\n",
       "                                                     [key], {});\n",
       "          if (!dataTable) return;\n",
       "\n",
       "          const docLinkHtml = 'Like what you see? Visit the ' +\n",
       "            '<a target=\"_blank\" href=https://colab.research.google.com/notebooks/data_table.ipynb>data table notebook</a>'\n",
       "            + ' to learn more about interactive tables.';\n",
       "          element.innerHTML = '';\n",
       "          dataTable['output_type'] = 'display_data';\n",
       "          await google.colab.output.renderOutput(dataTable, element);\n",
       "          const docLink = document.createElement('div');\n",
       "          docLink.innerHTML = docLinkHtml;\n",
       "          element.appendChild(docLink);\n",
       "        }\n",
       "      </script>\n",
       "    </div>\n",
       "  </div>\n",
       "  "
      ],
      "text/plain": [
       "              sales      quantity      discount        profit  shipping_cost  \\\n",
       "count  51290.000000  51290.000000  51290.000000  51290.000000   51290.000000   \n",
       "mean     246.490581      3.476545      0.142908     28.641740      26.375818   \n",
       "std      487.565361      2.278766      0.212280    174.424113      57.296810   \n",
       "min        0.444000      1.000000      0.000000  -6599.978000       0.002000   \n",
       "25%       30.758625      2.000000      0.000000      0.000000       2.610000   \n",
       "50%       85.053000      3.000000      0.000000      9.240000       7.790000   \n",
       "75%      251.053200      5.000000      0.200000     36.810000      24.450000   \n",
       "max    22638.480000     14.000000      0.850000   8399.976000     933.570000   \n",
       "\n",
       "               year  \n",
       "count  51290.000000  \n",
       "mean    2012.777208  \n",
       "std        1.098931  \n",
       "min     2011.000000  \n",
       "25%     2012.000000  \n",
       "50%     2013.000000  \n",
       "75%     2014.000000  \n",
       "max     2014.000000  "
      ]
     },
     "execution_count": 38,
     "metadata": {},
     "output_type": "execute_result"
    }
   ],
   "source": [
    "df.describe()"
   ]
  },
  {
   "cell_type": "markdown",
   "metadata": {
    "id": "anYMhtKhKAPU"
   },
   "source": [
    "Data Frame Slicing"
   ]
  },
  {
   "cell_type": "code",
   "execution_count": 57,
   "metadata": {
    "colab": {
     "base_uri": "https://localhost:8080/"
    },
    "id": "7dr1-thTKWNZ",
    "outputId": "83e923a1-1c8b-4491-a7b5-f1e64a8f2e12"
   },
   "outputs": [
    {
     "data": {
      "text/plain": [
       "0         Toby Braunhardt\n",
       "1             Joseph Holt\n",
       "2           Annie Thurman\n",
       "3            Eugene Moren\n",
       "4             Joseph Holt\n",
       "               ...       \n",
       "51285          Erica Bern\n",
       "51286           Liz Preis\n",
       "51287    Charlotte Melton\n",
       "51288       Tamara Dahlen\n",
       "51289       Jill Matthias\n",
       "Name: customer_name, Length: 51290, dtype: object"
      ]
     },
     "execution_count": 57,
     "metadata": {},
     "output_type": "execute_result"
    }
   ],
   "source": [
    "df['customer_name']"
   ]
  },
  {
   "cell_type": "code",
   "execution_count": 62,
   "metadata": {
    "colab": {
     "base_uri": "https://localhost:8080/"
    },
    "id": "tutQ4yeyKwrS",
    "outputId": "f5c70740-fe80-49ac-ce6b-2b505c97ae65"
   },
   "outputs": [
    {
     "data": {
      "text/plain": [
       "array(['Toby Braunhardt', 'Joseph Holt', 'Annie Thurman', 'Eugene Moren',\n",
       "       'Magdelene Morse', 'Kean Nguyen', 'Ken Lonsdale',\n",
       "       'Lindsay Williams', 'Larry Blacks', 'Dorothy Dickinson',\n",
       "       'Dennis Pardue', 'Stewart Visinsky', \"Jas O'Carroll\",\n",
       "       'Chris McAfee', 'Nat Gilpin', 'Jack Garza', 'Russell Applegate',\n",
       "       'Maya Herman', 'Beth Thompson', 'Arthur Prichep',\n",
       "       'Arthur Wiediger', 'Grant Thornton', 'Darren Powers',\n",
       "       'Bradley Drucker', 'Jasper Cacioppo', 'Jennifer Halladay',\n",
       "       'Michael Granlund', 'Phillina Ober', 'Shaun Weien',\n",
       "       'Shahid Hopkins', 'Brosina Hoffman', 'Robert Dilbeck',\n",
       "       'Grace Kelly', 'Khloe Miller', 'Mick Brown', 'Maria Etezadi',\n",
       "       'Maribeth Schnelling', 'Dave Poirier', 'Harry Marie',\n",
       "       'Lycoris Saunders', 'Alyssa Crouse', \"Jack O'Briant\",\n",
       "       'Adam Bellavance', 'Joy Smith', 'Henia Zydlo', 'Nicole Fjeld',\n",
       "       'Christopher Martinez', 'Vivek Sundaresam', 'Joe Elijah',\n",
       "       'Ed Braxton', 'Alejandro Grove', 'Sample Company A', 'Dan Lawera',\n",
       "       'Elpida Rittenbach', 'Sanjit Jacobs', 'Tiffany House',\n",
       "       'Jocasta Rupert', 'Greg Guthrie', 'Paul MacIntyre',\n",
       "       \"Patrick O'Donnell\", 'Ricardo Sperren', 'Melanie Seite',\n",
       "       'Brian Dahlen', 'Roy Collins', 'Philip Fox', 'David Flashing',\n",
       "       'Steve Carroll', 'Dianna Vittorini', 'Chuck Sachs',\n",
       "       'Tanja Norvell', 'Anthony Jacobs', 'Eric Murdock', 'Thomas Seio',\n",
       "       'Roy Phan', 'Anthony Garverick', 'Peter Bühler', 'Seth Vernon',\n",
       "       'Shaun Chance', 'Roger Demir', 'Ben Wallace', 'Greg Matthias',\n",
       "       'James Lanier', 'Stuart Calhoun', 'Cari Sayre', 'Chris Selesnick',\n",
       "       'Sharelle Roach', 'Natalie DeCherney', 'Bart Pistole',\n",
       "       'Ted Butterfield', 'Steve Nguyen', 'Bruce Degenhardt',\n",
       "       'Muhammed Yedwab', 'Michael Moore', 'Don Jones', 'Craig Leslie',\n",
       "       'Ross Baird', 'Mick Crebagga', 'Brendan Sweed', 'Erica Hackney',\n",
       "       'Alan Haines', 'Edward Hooks', 'Delfina Latchford',\n",
       "       'Vivian Mathis', 'Tamara Willingham', 'Shirley Daniels',\n",
       "       'Charles Sheldon', 'Michael Dominguez', 'Vivek Gonzalez',\n",
       "       'Richard Bierner', 'Beth Paige', 'Patrick Gardner', 'Matt Abelman',\n",
       "       'Aleksandra Gannaway', 'Pauline Webber', 'David Wiener',\n",
       "       'Ann Blume', 'Michael Kennedy', 'Michelle Arnett',\n",
       "       'Suzanne McNair', 'Toby Swindell', 'Irene Maddox',\n",
       "       'Alejandro Ballentine', 'Darren Koutras', 'Randy Bradley',\n",
       "       'Ruben Dartt', 'Toby Ritter', 'Hunter Lopez', 'Sally Hughsby',\n",
       "       'Xylona Preis', 'Ryan Crowe', 'Darrin Van Huff',\n",
       "       'Muhammed MacIntyre', 'Mark Van Huff', 'Paul Stevenson',\n",
       "       'Marc Harrigan', 'Sung Shariari', 'Jason Klamczynski',\n",
       "       'Claudia Bergmann', 'Carl Ludwig', 'Michael Paige',\n",
       "       'Tom Boeckenhauer', 'Brendan Murry', 'Larry Tron', 'Corey Roper',\n",
       "       'Christine Phan', 'Shirley Jackson', 'Jill Matthias',\n",
       "       'Lena Creighton', 'Ionia McGrath', 'Chuck Clark', 'Greg Hansen',\n",
       "       'Joni Sundaresam', 'Mitch Webber', 'Speros Goranitis',\n",
       "       'Janet Martin', 'Frank Olsen', 'Gary Hwang', 'Aimee Bixby',\n",
       "       'Filia McAdams', 'Brad Thomas', 'Luke Weiss', 'Sue Ann Reed',\n",
       "       'Heather Kirkland', 'Jay Fein', 'Allen Rosenblatt', 'Nat Carroll',\n",
       "       'Hunter Glantz', 'Bradley Talbott', 'Nathan Mautz',\n",
       "       'Anna Andreadi', 'Alan Shonely', 'Christina Anderson',\n",
       "       \"Patrick O'Brill\", 'Carol Adams', 'Neola Schneider',\n",
       "       'Todd Sumrall', 'Ryan Akin', 'Dennis Bolton', 'Liz Pelletier',\n",
       "       'Barry Weirich', 'Ed Jacobs', 'Herbert Flentye', 'Resi Pölking',\n",
       "       'Nona Balk', 'Harold Engle', 'David Philippe', 'Arthur Gainer',\n",
       "       'Troy Staebel', 'Luke Schmidt', 'Mike Vittorini', 'Bryan Davis',\n",
       "       'Charles McCrossin', 'Sarah Foster', 'Damala Kotsonis',\n",
       "       'Brendan Dodson', 'Liz Carlisle', 'David Kendrick',\n",
       "       'Stephanie Phelps', 'Dave Hallsten', 'Gene Hale', 'Ralph Ritter',\n",
       "       'Erin Smith', 'Ken Heidel', 'Evan Henry', 'Ellis Ballard',\n",
       "       'Giulietta Dortch', 'Lori Olson', 'Duane Noonan', 'Max Ludwig',\n",
       "       'Eric Barreto', 'Dean Braden', 'Theresa Swint', 'Cynthia Delaney',\n",
       "       'Christopher Conant', 'Tom Stivers', 'Ann Steele', 'Anthony Witt',\n",
       "       'Mark Haberlin', 'Deborah Brumfield', 'Justin MacKendrick',\n",
       "       'Neil Ducich', 'Natalie Webber', 'Duane Benoit', 'Liz Thompson',\n",
       "       'Susan MacKendrick', 'Scott Williamson', 'George Bell',\n",
       "       'Edward Becker', 'Cyma Kinney', 'Kelly Williams', 'Julia Barnett',\n",
       "       'Tom Prescott', 'Shui Tom', 'Clay Ludtke', 'Yoseph Carroll',\n",
       "       'Hallie Redmond', 'Daniel Raglin', 'Erica Hernandez',\n",
       "       'John Huston', 'Michelle Ellison', 'Paul Lucas', 'Jennifer Patt',\n",
       "       'Chad McGuire', 'Quincy Jones', \"Meg O'Connel\",\n",
       "       'Philisse Overcash', \"Mary O'Rourke\", 'Anna Häberlin',\n",
       "       'Lisa DeCherney', 'Sung Pak', 'Natalie Fritzler', 'Guy Armstrong',\n",
       "       'Sanjit Chand', 'Katrina Bavinger', 'Laurel Beltran', 'Toby Gnade',\n",
       "       'Toby Carlisle', 'Helen Andreada', 'Pete Armstrong',\n",
       "       'Jeremy Ellison', 'Gary Zandusky', 'Tracy Poddar',\n",
       "       'Marina Lichtenstein', 'Trudy Brown', 'Odella Nelson',\n",
       "       'Benjamin Farhat', 'Matt Hagelstein', 'Bart Watters',\n",
       "       'Rob Williams', 'Tracy Zic', 'Barry Französisch', 'Emily Ducich',\n",
       "       'Laura Armstrong', 'Katrina Willman', 'Michael Nguyen',\n",
       "       'Michelle Lonsdale', 'Skye Norling', 'Alan Barnes', 'Jim Radford',\n",
       "       'Daniel Lacy', 'Troy Blackwell', 'Aaron Bergman', 'Sam Craven',\n",
       "       'Zuschuss Donatelli', 'John Lucas', 'Erin Ashbrook',\n",
       "       'Liz MacKendrick', 'Andrew Roberts', 'Linda Cazamias',\n",
       "       'Sarah Jordon', 'Alice McCarthy', 'Steven Roelle', 'Paul Gonzalez',\n",
       "       'Rick Wilson', 'Sam Zeldin', 'Rick Huthwaite', 'Andrew Gjertsen',\n",
       "       'Patricia Hirasaki', 'Julia Dunbar', 'Tamara Manning',\n",
       "       'Mitch Gastineau', 'Roland Fjeld', 'Carlos Meador',\n",
       "       'Julie Creighton', 'Carlos Soltero', 'Jim Mitchum',\n",
       "       'Christy Brittain', 'Michael Grace', \"Rose O'Brian\", 'Fred McMath',\n",
       "       'Mike Kennedy', 'Tracy Hopkins', 'Emily Grady', 'Bill Stewart',\n",
       "       'Bobby Odegard', 'Rob Lucas', 'Lena Cacioppo', 'Dennis Kane',\n",
       "       'Sarah Brown', 'Vicky Freymann', 'Katherine Hughes', 'Dave Brooks',\n",
       "       'Giulietta Weimer', 'Shahid Collister', 'Bryan Spruell',\n",
       "       'Randy Ferguson', 'Logan Haushalter', 'Ed Ludwig',\n",
       "       'Brian DeCherney', 'Jeremy Farry', 'Mary Zewe', 'Nicole Hansen',\n",
       "       'Frank Hawley', 'Kristina Nunn', 'Scot Coram', 'Mitch Willingham',\n",
       "       'Sandra Flanagan', 'Cari Schnelling', 'Jill Stevenson',\n",
       "       'Eva Jacobs', 'Anne Pryor', 'Astrea Jones', 'Thais Sissman',\n",
       "       'Roger Barcio', 'Yana Sorensen', 'Chris Cortes', 'Ashley Jarboe',\n",
       "       'Brad Eason', 'Darrin Martin', 'Pierre Wener', 'John Lee',\n",
       "       'Barry Pond', \"Russell D'Ascenzo\", 'Maureen Gnade',\n",
       "       'Craig Molinari', 'Nora Pelletier', 'Naresj Patel', 'Greg Tran',\n",
       "       'Georgia Rosenberg', 'Joe Kamberova', 'Maurice Satty',\n",
       "       'Kalyca Meade', 'Anna Gayman', 'Saphhira Shifley', 'Janet Lee',\n",
       "       'Bryan Mills', 'Tonja Turnell', 'Kean Thornton',\n",
       "       'Katherine Ducich', 'Becky Castell', 'Bill Tyler', 'Peter McVee',\n",
       "       'Maureen Fritzler', 'Karen Seio', 'Kelly Andreada',\n",
       "       'Michelle Moray', 'Stewart Carmichael', 'Mark Hamilton',\n",
       "       'Neoma Murray', 'Chloris Kastensmidt', 'Carlos Daly',\n",
       "       'Sheri Gordon', 'Tom Zandusky', 'Rick Reed', 'Eugene Barchas',\n",
       "       'Rick Bensley', 'Christine Kargatis', 'Candace McMahon',\n",
       "       'Denise Leinenbach', 'Jason Fortune-', 'Neil Französisch',\n",
       "       'Dean Katz', 'Darren Budd', 'Dave Kipp', 'Ricardo Emerson',\n",
       "       'Fred Chung', 'Peter Fuller', 'Dorris liebe', 'Brian Thompson',\n",
       "       'Susan Vittorini', 'Clay Cheatham', 'Bradley Nguyen',\n",
       "       'Annie Zypern', 'Eileen Kiefer', 'Sean Miller', 'Janet Molinari',\n",
       "       'Edward Nazzal', 'Chad Sievert', 'Matt Connell',\n",
       "       'Kristen Hastings', 'Denny Joy', 'Mark Cousins', 'Ralph Kennedy',\n",
       "       'Jack Lebron', 'Gary McGarr', 'Cathy Armstrong', 'Jim Karlsson',\n",
       "       'Michael Stewart', 'Aaron Smayling', 'Cassandra Brandow',\n",
       "       'Alejandro Savely', 'Julia West', 'Beth Fritzler', 'Carol Darley',\n",
       "       'Craig Carroll', 'Tony Sayre', 'Kean Takahito',\n",
       "       'Christine Abelman', 'Bruce Geld', 'Laurel Workman',\n",
       "       'Lena Radford', 'Harold Pawlan', 'Matthew Clasen',\n",
       "       'Thomas Brumley', 'Valerie Mitchum', 'Jamie Frazer',\n",
       "       'Thea Hendricks', 'Jonathan Doherty', 'Cindy Stewart',\n",
       "       'Christina VanderZanden', 'Lisa Ryan', 'Julie Kriz',\n",
       "       'Ralph Arnett', 'Mike Pelletier', 'Scott Cohen', 'Art Foster',\n",
       "       'Don Weiss', 'Justin Hirsh', 'Mike Gockenbach', 'Meg Tillman',\n",
       "       'Sean Wendt', 'Mark Packer', 'Art Ferguson', 'Alex Russell',\n",
       "       'Guy Thornton', 'Bart Folk', 'Kunst Miller', 'Susan Gilcrest',\n",
       "       'Joy Bell-', 'Nathan Gelder', 'Trudy Glocke', 'Alex Avila',\n",
       "       'Roland Murray', 'Rachel Payne', 'Karen Bern',\n",
       "       'Benjamin Patterson', 'Jennifer Braxton', 'Victoria Pisteka',\n",
       "       'Lynn Smith', 'Katharine Harms', 'Dianna Wilson', 'Rob Dowd',\n",
       "       'Emily Burns', 'Tony Molinari', 'Christine Sundaresam',\n",
       "       'Pamela Coakley', 'Katrina Edelman', 'Liz Preis', 'Dianna Arnett',\n",
       "       'Ken Black', 'Bobby Trafton', 'Paul Knutson', 'Greg Maxwell',\n",
       "       'Barry Blumstein', 'Thea Hudgings', 'Nick Crebassa', 'John Grady',\n",
       "       'Pauline Chand', 'Max Engle', 'Guy Phonely', 'Amy Hunt',\n",
       "       'Andy Yotov', 'Adam Shillingsburg', 'Roland Schwarz',\n",
       "       'Liz Willingham', 'Pauline Johnson', 'Daniel Byrd', 'Bobby Elias',\n",
       "       'Ruben Ausman', 'John Stevenson', 'Jonathan Howell',\n",
       "       'Cindy Schnelling', 'Berenike Kampe', 'Gary Mitchum', 'Jay Kimmel',\n",
       "       'Erin Creighton', 'Sanjit Engle', 'Cathy Hwang', 'Brian Derr',\n",
       "       'Duane Huffman', 'Bill Eplett', 'Craig Carreira', 'Ben Ferrer',\n",
       "       'Scot Wooten', 'Corey-Lock', 'Patrick Ryan', 'Maria Zettner',\n",
       "       'Penelope Sewall', 'Dan Reichenbach', 'Nancy Lomonaco',\n",
       "       'Darrin Sayre', 'Allen Goldenen', 'Laurel Elliston',\n",
       "       'Frank Carlisle', 'Evan Bailliet', 'Sara Luxemburg',\n",
       "       'Stefanie Holloman', 'Anemone Ratner', 'Dorothy Badders',\n",
       "       'Eric Hoffmann', 'Allen Armold', 'Aaron Hawkins', 'Bill Donatelli',\n",
       "       'Gary Hansen', \"Sean O'Donnell\", 'Chuck Magee', 'Barry Franz',\n",
       "       'Ivan Gibson', 'Fred Wasserman', 'David Smith', 'Raymond Messe',\n",
       "       'Jessica Myrick', 'Lindsay Castell', 'Phillip Breyer',\n",
       "       'Ted Trevino', 'Anthony Rawles', 'Linda Southworth',\n",
       "       'Cynthia Voltz', 'Max Jones', 'Matt Collister', 'Roy Französisch',\n",
       "       'Noah Childs', 'Arianne Irving', 'Debra Catini', 'Andy Reiter',\n",
       "       'Heather Jas', 'Carol Triggs', 'Eudokia Martin', 'Harry Greene',\n",
       "       'Lauren Leatherbury', 'Ann Chong', 'Brooke Gillingham',\n",
       "       'Rick Hansen', 'Valerie Dominguez', 'George Ashbrook',\n",
       "       'Cindy Chapman', 'Anthony Johnson', 'Anne McFarland',\n",
       "       'Nathan Cano', 'Evan Minnotte', 'Andrew Allen', 'Bill Shonely',\n",
       "       'Steve Chapman', 'Patrick Jones', 'Maribeth Yedwab',\n",
       "       'Tamara Chand', 'Tony Chapman', 'Craig Yedwab', 'Tracy Blumstein',\n",
       "       'Sean Braxton', 'Tim Taslimi', 'Kelly Lampkin', 'Pamela Stobb',\n",
       "       'Victoria Wilson', 'Harold Dahlen', 'Lela Donovan',\n",
       "       'Eugene Hildebrand', 'Michelle Huthwaite', 'Lena Hernandez',\n",
       "       'Brian Stugart', 'Sandra Glassco', 'William Brown', 'Jane Waco',\n",
       "       'Dana Kaydos', 'Ken Brennan', 'Bruce Stewart', 'Maxwell Schwartz',\n",
       "       'Jennifer Jackson', 'Adrian Barton', 'Alan Schoenberger',\n",
       "       'Karen Carlisle', 'Katherine Murray', 'Tamara Dahlen',\n",
       "       'Erica Smith', 'Emily Phan', 'Sonia Cooley', 'Frank Gastineau',\n",
       "       'Denny Blanton', \"Doug O'Connell\", 'Frank Atkinson', 'Dean percer',\n",
       "       'Lisa Hazard', 'Shahid Shariari', 'Fred Hopkins', 'James Galang',\n",
       "       'Maribeth Dona', 'Mike Caudle', 'Nick Zandusky', 'Monica Federle',\n",
       "       'Benjamin Venier', 'Caroline Jumper', 'Steven Ward',\n",
       "       'Dorothy Wardle', 'Rob Haberlin', 'Alyssa Tate', 'Becky Martin',\n",
       "       'Steven Cartwright', 'Richard Eichhorn', 'Robert Waldorf',\n",
       "       'Paul Prost', 'John Dryer', 'Roy Skaria', 'Raymond Buch',\n",
       "       'Karl Braun', 'Charlotte Melton', 'Anna Chung', 'Muhammed Lee',\n",
       "       'Valerie Takahito', 'Jamie Kunitz', 'Sarah Bern', 'Todd Boyes',\n",
       "       'Michelle Tran', 'Jim Sink', 'Neil Knudson', 'Nick Radford',\n",
       "       'Stephanie Ulpright', 'Sung Chung', 'Cynthia Arntzen',\n",
       "       'Erica Bern', 'Angele Hood', 'Rick Duston', 'Becky Pak',\n",
       "       'Eleni McCrary', 'Jennifer Ferguson', 'Ross DeVincentis',\n",
       "       'Ivan Liston', 'Carl Weiss', 'Victor Preis', 'Marc Crier',\n",
       "       'Joy Daniels', 'Adam Hart', 'Cyra Reiten', 'Sally Matthias',\n",
       "       'Keith Dawkins', 'Joni Wasserman', 'Kelly Collister', 'Jill Fjeld',\n",
       "       'Vivek Grady', 'Charles Crestani', 'Lindsay Shagiari',\n",
       "       'Juliana Krohn', 'Jeremy Lonsdale', 'Thomas Thornton',\n",
       "       'Stefania Perrino', 'Joseph Airdo', 'Julie Prescott', 'Joel Eaton',\n",
       "       'Stuart Van', 'Justin Deggeller', 'Andy Gerbode', 'Deanra Eno',\n",
       "       'Denny Ordway', 'MaryBeth Skach', 'Christopher Schild',\n",
       "       'Philip Brown', 'Jason Gross', 'Noel Staavos', 'Pete Kriz',\n",
       "       'Cathy Prescott', 'Nicole Brennan', 'Victoria Brennan',\n",
       "       'Christina DeMoss', 'Tom Ashbrook', 'George Zrebassa',\n",
       "       'Frank Preis', 'Keith Herrera', 'Dionis Lloyd', 'Helen Abelman',\n",
       "       'Sally Knutson', 'Michael Chen', 'Don Miller', 'Dan Campbell',\n",
       "       'Claire Gute', 'Hilary Holden', 'Cari MacIntyre', 'Deirdre Greer',\n",
       "       'Brian Moss', 'Dario Medina', 'Paul Van Hugh', 'Shirley Schmidt',\n",
       "       'Barbara Fisher', 'Catherine Glotzbach', 'Craig Reiter',\n",
       "       'Corey Catlett', 'Doug Bickford', 'Maureen Gastineau',\n",
       "       'Adrian Hane', 'Patrick Bzostek', 'Ritsa Hightower',\n",
       "       'Alex Grayson', 'Erin Mull', 'Gene McClure', 'Larry Hughes',\n",
       "       'Luke Foster', 'Logan Currie', 'Mathew Reese', 'Clytie Kelty',\n",
       "       'Sonia Sunley', 'Phillip Flathmann', 'Mick Hernandez',\n",
       "       'Corinna Mitchell', 'Maria Bertelson', 'Amy Cox',\n",
       "       'Matthew Grinstein', 'Jesus Ocampo', 'Parhena Norris',\n",
       "       'Elizabeth Moffitt', 'Clay Rozendal', 'Thomas Boland',\n",
       "       'Jeremy Pistek', 'Alan Hwang', 'Henry MacAllister', 'Matt Collins',\n",
       "       'Alan Dominguez', 'Sylvia Foulston', 'Sibella Parks',\n",
       "       'Michael Oakman', 'Robert Barroso', 'Denise Monton',\n",
       "       'Joel Jenkins', 'Tim Brockman', 'Trudy Schmidt', 'Frank Merwin',\n",
       "       \"Anthony O'Donnell\", 'Nora Preis', 'Kimberly Carter',\n",
       "       'Susan Pistek', 'Tracy Collins', 'Brad Norvell', 'Carl Jackson',\n",
       "       'Pete Takahito', 'John Castell', 'Doug Jacobs', 'Harold Ryan',\n",
       "       'Fred Harton', 'Joni Blumstein', 'Jim Kriz', 'Karen Daniels',\n",
       "       'Henry Goldwyn', 'Olvera Toch', 'Zuschuss Carroll', 'Ben Peterman',\n",
       "       'Helen Wasserman', 'Karen Ferguson', 'Theresa Coyne',\n",
       "       'Barry Gonzalez', 'David Bremer', 'Jim Epp', 'John Murray',\n",
       "       'Rob Beeghly', 'Justin Ritter', 'Brenda Bowman', 'Bill Overfelt',\n",
       "       'Theone Pippenger', 'Sean Christensen', 'Justin Ellison',\n",
       "       'Ken Dana', 'Katherine Nockton', 'Nora Paige', 'Jenna Caffey',\n",
       "       'Maris LaWare', 'Robert Marley', 'Chad Cunningham', 'Adrian Shami',\n",
       "       'Giulietta Baptist'], dtype=object)"
      ]
     },
     "execution_count": 62,
     "metadata": {},
     "output_type": "execute_result"
    }
   ],
   "source": [
    "df['customer_name'].unique()"
   ]
  },
  {
   "cell_type": "markdown",
   "metadata": {
    "id": "iA6rfOYdhqGq"
   },
   "source": [
    "**Number of Sales in each Region**"
   ]
  },
  {
   "cell_type": "code",
   "execution_count": 39,
   "metadata": {
    "colab": {
     "base_uri": "https://localhost:8080/"
    },
    "id": "Ts47Mipo_dCH",
    "outputId": "fd361bb1-d910-4eb1-8679-5ca5093e7783"
   },
   "outputs": [
    {
     "data": {
      "text/plain": [
       "Central           11117\n",
       "South              6645\n",
       "EMEA               5029\n",
       "North              4785\n",
       "Africa             4587\n",
       "Oceania            3487\n",
       "West               3203\n",
       "Southeast Asia     3129\n",
       "East               2848\n",
       "North Asia         2338\n",
       "Central Asia       2048\n",
       "Caribbean          1690\n",
       "Canada              384\n",
       "Name: region, dtype: int64"
      ]
     },
     "execution_count": 39,
     "metadata": {},
     "output_type": "execute_result"
    }
   ],
   "source": [
    "df['region'].value_counts()"
   ]
  },
  {
   "cell_type": "markdown",
   "metadata": {
    "id": "eoqLLX_ChzZ5"
   },
   "source": []
  },
  {
   "cell_type": "code",
   "execution_count": 40,
   "metadata": {
    "collapsed": true,
    "id": "EAA8OkpmAJnE"
   },
   "outputs": [],
   "source": [
    "df['total_sales'] = df['sales']*df['quantity']"
   ]
  },
  {
   "cell_type": "code",
   "execution_count": 49,
   "metadata": {
    "colab": {
     "base_uri": "https://localhost:8080/",
     "height": 438
    },
    "id": "aMSvYpBoHmZn",
    "outputId": "514e9590-ce4e-45ad-fea4-23b589c84576"
   },
   "outputs": [
    {
     "data": {
      "text/html": [
       "\n",
       "  <div id=\"df-aeb10234-10cc-42b0-a1af-1158bf214aee\">\n",
       "    <div class=\"colab-df-container\">\n",
       "      <div>\n",
       "<style scoped>\n",
       "    .dataframe tbody tr th:only-of-type {\n",
       "        vertical-align: middle;\n",
       "    }\n",
       "\n",
       "    .dataframe tbody tr th {\n",
       "        vertical-align: top;\n",
       "    }\n",
       "\n",
       "    .dataframe thead th {\n",
       "        text-align: right;\n",
       "    }\n",
       "</style>\n",
       "<table border=\"1\" class=\"dataframe\">\n",
       "  <thead>\n",
       "    <tr style=\"text-align: right;\">\n",
       "      <th></th>\n",
       "      <th>order_id</th>\n",
       "      <th>order_date</th>\n",
       "      <th>ship_date</th>\n",
       "      <th>ship_mode</th>\n",
       "      <th>customer_name</th>\n",
       "      <th>segment</th>\n",
       "      <th>state</th>\n",
       "      <th>country</th>\n",
       "      <th>market</th>\n",
       "      <th>region</th>\n",
       "      <th>...</th>\n",
       "      <th>sub_category</th>\n",
       "      <th>product_name</th>\n",
       "      <th>sales</th>\n",
       "      <th>quantity</th>\n",
       "      <th>discount</th>\n",
       "      <th>profit</th>\n",
       "      <th>shipping_cost</th>\n",
       "      <th>order_priority</th>\n",
       "      <th>year</th>\n",
       "      <th>total_sales</th>\n",
       "    </tr>\n",
       "  </thead>\n",
       "  <tbody>\n",
       "    <tr>\n",
       "      <th>0</th>\n",
       "      <td>AG-2011-2040</td>\n",
       "      <td>2011-01-01</td>\n",
       "      <td>2011-01-06</td>\n",
       "      <td>Standard Class</td>\n",
       "      <td>Toby Braunhardt</td>\n",
       "      <td>Consumer</td>\n",
       "      <td>Constantine</td>\n",
       "      <td>Algeria</td>\n",
       "      <td>Africa</td>\n",
       "      <td>Africa</td>\n",
       "      <td>...</td>\n",
       "      <td>Storage</td>\n",
       "      <td>Tenex Lockers, Blue</td>\n",
       "      <td>408.300</td>\n",
       "      <td>2</td>\n",
       "      <td>0.0</td>\n",
       "      <td>106.140</td>\n",
       "      <td>35.46</td>\n",
       "      <td>Medium</td>\n",
       "      <td>2011</td>\n",
       "      <td>816.600</td>\n",
       "    </tr>\n",
       "    <tr>\n",
       "      <th>1</th>\n",
       "      <td>IN-2011-47883</td>\n",
       "      <td>2011-01-01</td>\n",
       "      <td>2011-01-08</td>\n",
       "      <td>Standard Class</td>\n",
       "      <td>Joseph Holt</td>\n",
       "      <td>Consumer</td>\n",
       "      <td>New South Wales</td>\n",
       "      <td>Australia</td>\n",
       "      <td>APAC</td>\n",
       "      <td>Oceania</td>\n",
       "      <td>...</td>\n",
       "      <td>Supplies</td>\n",
       "      <td>Acme Trimmer, High Speed</td>\n",
       "      <td>120.366</td>\n",
       "      <td>3</td>\n",
       "      <td>0.1</td>\n",
       "      <td>36.036</td>\n",
       "      <td>9.72</td>\n",
       "      <td>Medium</td>\n",
       "      <td>2011</td>\n",
       "      <td>361.098</td>\n",
       "    </tr>\n",
       "    <tr>\n",
       "      <th>2</th>\n",
       "      <td>HU-2011-1220</td>\n",
       "      <td>2011-01-01</td>\n",
       "      <td>2011-01-05</td>\n",
       "      <td>Second Class</td>\n",
       "      <td>Annie Thurman</td>\n",
       "      <td>Consumer</td>\n",
       "      <td>Budapest</td>\n",
       "      <td>Hungary</td>\n",
       "      <td>EMEA</td>\n",
       "      <td>EMEA</td>\n",
       "      <td>...</td>\n",
       "      <td>Storage</td>\n",
       "      <td>Tenex Box, Single Width</td>\n",
       "      <td>66.120</td>\n",
       "      <td>4</td>\n",
       "      <td>0.0</td>\n",
       "      <td>29.640</td>\n",
       "      <td>8.17</td>\n",
       "      <td>High</td>\n",
       "      <td>2011</td>\n",
       "      <td>264.480</td>\n",
       "    </tr>\n",
       "    <tr>\n",
       "      <th>3</th>\n",
       "      <td>IT-2011-3647632</td>\n",
       "      <td>2011-01-01</td>\n",
       "      <td>2011-01-05</td>\n",
       "      <td>Second Class</td>\n",
       "      <td>Eugene Moren</td>\n",
       "      <td>Home Office</td>\n",
       "      <td>Stockholm</td>\n",
       "      <td>Sweden</td>\n",
       "      <td>EU</td>\n",
       "      <td>North</td>\n",
       "      <td>...</td>\n",
       "      <td>Paper</td>\n",
       "      <td>Enermax Note Cards, Premium</td>\n",
       "      <td>44.865</td>\n",
       "      <td>3</td>\n",
       "      <td>0.5</td>\n",
       "      <td>-26.055</td>\n",
       "      <td>4.82</td>\n",
       "      <td>High</td>\n",
       "      <td>2011</td>\n",
       "      <td>134.595</td>\n",
       "    </tr>\n",
       "    <tr>\n",
       "      <th>4</th>\n",
       "      <td>IN-2011-47883</td>\n",
       "      <td>2011-01-01</td>\n",
       "      <td>2011-01-08</td>\n",
       "      <td>Standard Class</td>\n",
       "      <td>Joseph Holt</td>\n",
       "      <td>Consumer</td>\n",
       "      <td>New South Wales</td>\n",
       "      <td>Australia</td>\n",
       "      <td>APAC</td>\n",
       "      <td>Oceania</td>\n",
       "      <td>...</td>\n",
       "      <td>Furnishings</td>\n",
       "      <td>Eldon Light Bulb, Duo Pack</td>\n",
       "      <td>113.670</td>\n",
       "      <td>5</td>\n",
       "      <td>0.1</td>\n",
       "      <td>37.770</td>\n",
       "      <td>4.70</td>\n",
       "      <td>Medium</td>\n",
       "      <td>2011</td>\n",
       "      <td>568.350</td>\n",
       "    </tr>\n",
       "  </tbody>\n",
       "</table>\n",
       "<p>5 rows × 22 columns</p>\n",
       "</div>\n",
       "      <button class=\"colab-df-convert\" onclick=\"convertToInteractive('df-aeb10234-10cc-42b0-a1af-1158bf214aee')\"\n",
       "              title=\"Convert this dataframe to an interactive table.\"\n",
       "              style=\"display:none;\">\n",
       "        \n",
       "  <svg xmlns=\"http://www.w3.org/2000/svg\" height=\"24px\"viewBox=\"0 0 24 24\"\n",
       "       width=\"24px\">\n",
       "    <path d=\"M0 0h24v24H0V0z\" fill=\"none\"/>\n",
       "    <path d=\"M18.56 5.44l.94 2.06.94-2.06 2.06-.94-2.06-.94-.94-2.06-.94 2.06-2.06.94zm-11 1L8.5 8.5l.94-2.06 2.06-.94-2.06-.94L8.5 2.5l-.94 2.06-2.06.94zm10 10l.94 2.06.94-2.06 2.06-.94-2.06-.94-.94-2.06-.94 2.06-2.06.94z\"/><path d=\"M17.41 7.96l-1.37-1.37c-.4-.4-.92-.59-1.43-.59-.52 0-1.04.2-1.43.59L10.3 9.45l-7.72 7.72c-.78.78-.78 2.05 0 2.83L4 21.41c.39.39.9.59 1.41.59.51 0 1.02-.2 1.41-.59l7.78-7.78 2.81-2.81c.8-.78.8-2.07 0-2.86zM5.41 20L4 18.59l7.72-7.72 1.47 1.35L5.41 20z\"/>\n",
       "  </svg>\n",
       "      </button>\n",
       "      \n",
       "  <style>\n",
       "    .colab-df-container {\n",
       "      display:flex;\n",
       "      flex-wrap:wrap;\n",
       "      gap: 12px;\n",
       "    }\n",
       "\n",
       "    .colab-df-convert {\n",
       "      background-color: #E8F0FE;\n",
       "      border: none;\n",
       "      border-radius: 50%;\n",
       "      cursor: pointer;\n",
       "      display: none;\n",
       "      fill: #1967D2;\n",
       "      height: 32px;\n",
       "      padding: 0 0 0 0;\n",
       "      width: 32px;\n",
       "    }\n",
       "\n",
       "    .colab-df-convert:hover {\n",
       "      background-color: #E2EBFA;\n",
       "      box-shadow: 0px 1px 2px rgba(60, 64, 67, 0.3), 0px 1px 3px 1px rgba(60, 64, 67, 0.15);\n",
       "      fill: #174EA6;\n",
       "    }\n",
       "\n",
       "    [theme=dark] .colab-df-convert {\n",
       "      background-color: #3B4455;\n",
       "      fill: #D2E3FC;\n",
       "    }\n",
       "\n",
       "    [theme=dark] .colab-df-convert:hover {\n",
       "      background-color: #434B5C;\n",
       "      box-shadow: 0px 1px 3px 1px rgba(0, 0, 0, 0.15);\n",
       "      filter: drop-shadow(0px 1px 2px rgba(0, 0, 0, 0.3));\n",
       "      fill: #FFFFFF;\n",
       "    }\n",
       "  </style>\n",
       "\n",
       "      <script>\n",
       "        const buttonEl =\n",
       "          document.querySelector('#df-aeb10234-10cc-42b0-a1af-1158bf214aee button.colab-df-convert');\n",
       "        buttonEl.style.display =\n",
       "          google.colab.kernel.accessAllowed ? 'block' : 'none';\n",
       "\n",
       "        async function convertToInteractive(key) {\n",
       "          const element = document.querySelector('#df-aeb10234-10cc-42b0-a1af-1158bf214aee');\n",
       "          const dataTable =\n",
       "            await google.colab.kernel.invokeFunction('convertToInteractive',\n",
       "                                                     [key], {});\n",
       "          if (!dataTable) return;\n",
       "\n",
       "          const docLinkHtml = 'Like what you see? Visit the ' +\n",
       "            '<a target=\"_blank\" href=https://colab.research.google.com/notebooks/data_table.ipynb>data table notebook</a>'\n",
       "            + ' to learn more about interactive tables.';\n",
       "          element.innerHTML = '';\n",
       "          dataTable['output_type'] = 'display_data';\n",
       "          await google.colab.output.renderOutput(dataTable, element);\n",
       "          const docLink = document.createElement('div');\n",
       "          docLink.innerHTML = docLinkHtml;\n",
       "          element.appendChild(docLink);\n",
       "        }\n",
       "      </script>\n",
       "    </div>\n",
       "  </div>\n",
       "  "
      ],
      "text/plain": [
       "          order_id order_date  ship_date       ship_mode    customer_name  \\\n",
       "0     AG-2011-2040 2011-01-01 2011-01-06  Standard Class  Toby Braunhardt   \n",
       "1    IN-2011-47883 2011-01-01 2011-01-08  Standard Class      Joseph Holt   \n",
       "2     HU-2011-1220 2011-01-01 2011-01-05    Second Class    Annie Thurman   \n",
       "3  IT-2011-3647632 2011-01-01 2011-01-05    Second Class     Eugene Moren   \n",
       "4    IN-2011-47883 2011-01-01 2011-01-08  Standard Class      Joseph Holt   \n",
       "\n",
       "       segment            state    country  market   region  ... sub_category  \\\n",
       "0     Consumer      Constantine    Algeria  Africa   Africa  ...      Storage   \n",
       "1     Consumer  New South Wales  Australia    APAC  Oceania  ...     Supplies   \n",
       "2     Consumer         Budapest    Hungary    EMEA     EMEA  ...      Storage   \n",
       "3  Home Office        Stockholm     Sweden      EU    North  ...        Paper   \n",
       "4     Consumer  New South Wales  Australia    APAC  Oceania  ...  Furnishings   \n",
       "\n",
       "                  product_name    sales quantity  discount   profit  \\\n",
       "0          Tenex Lockers, Blue  408.300        2       0.0  106.140   \n",
       "1     Acme Trimmer, High Speed  120.366        3       0.1   36.036   \n",
       "2      Tenex Box, Single Width   66.120        4       0.0   29.640   \n",
       "3  Enermax Note Cards, Premium   44.865        3       0.5  -26.055   \n",
       "4   Eldon Light Bulb, Duo Pack  113.670        5       0.1   37.770   \n",
       "\n",
       "   shipping_cost  order_priority  year total_sales  \n",
       "0          35.46          Medium  2011     816.600  \n",
       "1           9.72          Medium  2011     361.098  \n",
       "2           8.17            High  2011     264.480  \n",
       "3           4.82            High  2011     134.595  \n",
       "4           4.70          Medium  2011     568.350  \n",
       "\n",
       "[5 rows x 22 columns]"
      ]
     },
     "execution_count": 49,
     "metadata": {},
     "output_type": "execute_result"
    }
   ],
   "source": [
    "df.head()"
   ]
  },
  {
   "cell_type": "markdown",
   "metadata": {
    "id": "k-ytiEmUIf-L"
   },
   "source": [
    "* **What if we care to know the Highest Sales in one order?**"
   ]
  },
  {
   "cell_type": "code",
   "execution_count": 50,
   "metadata": {
    "colab": {
     "base_uri": "https://localhost:8080/"
    },
    "id": "voQ_DAodH1Ki",
    "outputId": "d5059082-a287-4071-a25a-7ea2966da541"
   },
   "outputs": [
    {
     "data": {
      "text/plain": [
       "135830.88"
      ]
     },
     "execution_count": 50,
     "metadata": {},
     "output_type": "execute_result"
    }
   ],
   "source": [
    "df['total_sales'].max()"
   ]
  },
  {
   "cell_type": "code",
   "execution_count": 53,
   "metadata": {
    "colab": {
     "base_uri": "https://localhost:8080/",
     "height": 226
    },
    "id": "a6HfCSPYJviN",
    "outputId": "8d0a0a98-6ba6-4f39-8e5e-76d706eaf0f3"
   },
   "outputs": [
    {
     "data": {
      "text/html": [
       "\n",
       "  <div id=\"df-c0eae97f-1c64-406f-a3ec-ba62951c7f23\">\n",
       "    <div class=\"colab-df-container\">\n",
       "      <div>\n",
       "<style scoped>\n",
       "    .dataframe tbody tr th:only-of-type {\n",
       "        vertical-align: middle;\n",
       "    }\n",
       "\n",
       "    .dataframe tbody tr th {\n",
       "        vertical-align: top;\n",
       "    }\n",
       "\n",
       "    .dataframe thead th {\n",
       "        text-align: right;\n",
       "    }\n",
       "</style>\n",
       "<table border=\"1\" class=\"dataframe\">\n",
       "  <thead>\n",
       "    <tr style=\"text-align: right;\">\n",
       "      <th></th>\n",
       "      <th>order_id</th>\n",
       "      <th>order_date</th>\n",
       "      <th>ship_date</th>\n",
       "      <th>ship_mode</th>\n",
       "      <th>customer_name</th>\n",
       "      <th>segment</th>\n",
       "      <th>state</th>\n",
       "      <th>country</th>\n",
       "      <th>market</th>\n",
       "      <th>region</th>\n",
       "      <th>...</th>\n",
       "      <th>sub_category</th>\n",
       "      <th>product_name</th>\n",
       "      <th>sales</th>\n",
       "      <th>quantity</th>\n",
       "      <th>discount</th>\n",
       "      <th>profit</th>\n",
       "      <th>shipping_cost</th>\n",
       "      <th>order_priority</th>\n",
       "      <th>year</th>\n",
       "      <th>total_sales</th>\n",
       "    </tr>\n",
       "  </thead>\n",
       "  <tbody>\n",
       "    <tr>\n",
       "      <th>1103</th>\n",
       "      <td>CA-2011-145317</td>\n",
       "      <td>2011-03-18</td>\n",
       "      <td>2011-03-23</td>\n",
       "      <td>Standard Class</td>\n",
       "      <td>Sean Miller</td>\n",
       "      <td>Home Office</td>\n",
       "      <td>Florida</td>\n",
       "      <td>United States</td>\n",
       "      <td>US</td>\n",
       "      <td>South</td>\n",
       "      <td>...</td>\n",
       "      <td>Machines</td>\n",
       "      <td>Cisco TelePresence System EX90 Videoconferenci...</td>\n",
       "      <td>22638.48</td>\n",
       "      <td>6</td>\n",
       "      <td>0.5</td>\n",
       "      <td>-1811.0784</td>\n",
       "      <td>24.2865</td>\n",
       "      <td>Medium</td>\n",
       "      <td>2011</td>\n",
       "      <td>135830.88</td>\n",
       "    </tr>\n",
       "  </tbody>\n",
       "</table>\n",
       "<p>1 rows × 22 columns</p>\n",
       "</div>\n",
       "      <button class=\"colab-df-convert\" onclick=\"convertToInteractive('df-c0eae97f-1c64-406f-a3ec-ba62951c7f23')\"\n",
       "              title=\"Convert this dataframe to an interactive table.\"\n",
       "              style=\"display:none;\">\n",
       "        \n",
       "  <svg xmlns=\"http://www.w3.org/2000/svg\" height=\"24px\"viewBox=\"0 0 24 24\"\n",
       "       width=\"24px\">\n",
       "    <path d=\"M0 0h24v24H0V0z\" fill=\"none\"/>\n",
       "    <path d=\"M18.56 5.44l.94 2.06.94-2.06 2.06-.94-2.06-.94-.94-2.06-.94 2.06-2.06.94zm-11 1L8.5 8.5l.94-2.06 2.06-.94-2.06-.94L8.5 2.5l-.94 2.06-2.06.94zm10 10l.94 2.06.94-2.06 2.06-.94-2.06-.94-.94-2.06-.94 2.06-2.06.94z\"/><path d=\"M17.41 7.96l-1.37-1.37c-.4-.4-.92-.59-1.43-.59-.52 0-1.04.2-1.43.59L10.3 9.45l-7.72 7.72c-.78.78-.78 2.05 0 2.83L4 21.41c.39.39.9.59 1.41.59.51 0 1.02-.2 1.41-.59l7.78-7.78 2.81-2.81c.8-.78.8-2.07 0-2.86zM5.41 20L4 18.59l7.72-7.72 1.47 1.35L5.41 20z\"/>\n",
       "  </svg>\n",
       "      </button>\n",
       "      \n",
       "  <style>\n",
       "    .colab-df-container {\n",
       "      display:flex;\n",
       "      flex-wrap:wrap;\n",
       "      gap: 12px;\n",
       "    }\n",
       "\n",
       "    .colab-df-convert {\n",
       "      background-color: #E8F0FE;\n",
       "      border: none;\n",
       "      border-radius: 50%;\n",
       "      cursor: pointer;\n",
       "      display: none;\n",
       "      fill: #1967D2;\n",
       "      height: 32px;\n",
       "      padding: 0 0 0 0;\n",
       "      width: 32px;\n",
       "    }\n",
       "\n",
       "    .colab-df-convert:hover {\n",
       "      background-color: #E2EBFA;\n",
       "      box-shadow: 0px 1px 2px rgba(60, 64, 67, 0.3), 0px 1px 3px 1px rgba(60, 64, 67, 0.15);\n",
       "      fill: #174EA6;\n",
       "    }\n",
       "\n",
       "    [theme=dark] .colab-df-convert {\n",
       "      background-color: #3B4455;\n",
       "      fill: #D2E3FC;\n",
       "    }\n",
       "\n",
       "    [theme=dark] .colab-df-convert:hover {\n",
       "      background-color: #434B5C;\n",
       "      box-shadow: 0px 1px 3px 1px rgba(0, 0, 0, 0.15);\n",
       "      filter: drop-shadow(0px 1px 2px rgba(0, 0, 0, 0.3));\n",
       "      fill: #FFFFFF;\n",
       "    }\n",
       "  </style>\n",
       "\n",
       "      <script>\n",
       "        const buttonEl =\n",
       "          document.querySelector('#df-c0eae97f-1c64-406f-a3ec-ba62951c7f23 button.colab-df-convert');\n",
       "        buttonEl.style.display =\n",
       "          google.colab.kernel.accessAllowed ? 'block' : 'none';\n",
       "\n",
       "        async function convertToInteractive(key) {\n",
       "          const element = document.querySelector('#df-c0eae97f-1c64-406f-a3ec-ba62951c7f23');\n",
       "          const dataTable =\n",
       "            await google.colab.kernel.invokeFunction('convertToInteractive',\n",
       "                                                     [key], {});\n",
       "          if (!dataTable) return;\n",
       "\n",
       "          const docLinkHtml = 'Like what you see? Visit the ' +\n",
       "            '<a target=\"_blank\" href=https://colab.research.google.com/notebooks/data_table.ipynb>data table notebook</a>'\n",
       "            + ' to learn more about interactive tables.';\n",
       "          element.innerHTML = '';\n",
       "          dataTable['output_type'] = 'display_data';\n",
       "          await google.colab.output.renderOutput(dataTable, element);\n",
       "          const docLink = document.createElement('div');\n",
       "          docLink.innerHTML = docLinkHtml;\n",
       "          element.appendChild(docLink);\n",
       "        }\n",
       "      </script>\n",
       "    </div>\n",
       "  </div>\n",
       "  "
      ],
      "text/plain": [
       "            order_id order_date  ship_date       ship_mode customer_name  \\\n",
       "1103  CA-2011-145317 2011-03-18 2011-03-23  Standard Class   Sean Miller   \n",
       "\n",
       "          segment    state        country market region  ... sub_category  \\\n",
       "1103  Home Office  Florida  United States     US  South  ...     Machines   \n",
       "\n",
       "                                           product_name     sales quantity  \\\n",
       "1103  Cisco TelePresence System EX90 Videoconferenci...  22638.48        6   \n",
       "\n",
       "      discount     profit  shipping_cost  order_priority  year total_sales  \n",
       "1103       0.5 -1811.0784        24.2865          Medium  2011   135830.88  \n",
       "\n",
       "[1 rows x 22 columns]"
      ]
     },
     "execution_count": 53,
     "metadata": {},
     "output_type": "execute_result"
    }
   ],
   "source": [
    "df[df['total_sales'] ==df['total_sales'].max()]"
   ]
  },
  {
   "cell_type": "markdown",
   "metadata": {
    "id": "MPYAJIOZLxHa"
   },
   "source": [
    "Row Slicing"
   ]
  },
  {
   "cell_type": "code",
   "execution_count": 63,
   "metadata": {
    "colab": {
     "base_uri": "https://localhost:8080/",
     "height": 782
    },
    "id": "MonkyM3LI-Jj",
    "outputId": "f26a8f6e-31ad-4756-bb31-e7aa37d3e079"
   },
   "outputs": [
    {
     "data": {
      "text/html": [
       "\n",
       "  <div id=\"df-59eeb4e0-3525-43b7-a31e-5a2842bdc228\">\n",
       "    <div class=\"colab-df-container\">\n",
       "      <div>\n",
       "<style scoped>\n",
       "    .dataframe tbody tr th:only-of-type {\n",
       "        vertical-align: middle;\n",
       "    }\n",
       "\n",
       "    .dataframe tbody tr th {\n",
       "        vertical-align: top;\n",
       "    }\n",
       "\n",
       "    .dataframe thead th {\n",
       "        text-align: right;\n",
       "    }\n",
       "</style>\n",
       "<table border=\"1\" class=\"dataframe\">\n",
       "  <thead>\n",
       "    <tr style=\"text-align: right;\">\n",
       "      <th></th>\n",
       "      <th>order_id</th>\n",
       "      <th>order_date</th>\n",
       "      <th>ship_date</th>\n",
       "      <th>ship_mode</th>\n",
       "      <th>customer_name</th>\n",
       "      <th>segment</th>\n",
       "      <th>state</th>\n",
       "      <th>country</th>\n",
       "      <th>market</th>\n",
       "      <th>region</th>\n",
       "      <th>...</th>\n",
       "      <th>sub_category</th>\n",
       "      <th>product_name</th>\n",
       "      <th>sales</th>\n",
       "      <th>quantity</th>\n",
       "      <th>discount</th>\n",
       "      <th>profit</th>\n",
       "      <th>shipping_cost</th>\n",
       "      <th>order_priority</th>\n",
       "      <th>year</th>\n",
       "      <th>total_sales</th>\n",
       "    </tr>\n",
       "  </thead>\n",
       "  <tbody>\n",
       "    <tr>\n",
       "      <th>0</th>\n",
       "      <td>AG-2011-2040</td>\n",
       "      <td>2011-01-01</td>\n",
       "      <td>2011-01-06</td>\n",
       "      <td>Standard Class</td>\n",
       "      <td>Toby Braunhardt</td>\n",
       "      <td>Consumer</td>\n",
       "      <td>Constantine</td>\n",
       "      <td>Algeria</td>\n",
       "      <td>Africa</td>\n",
       "      <td>Africa</td>\n",
       "      <td>...</td>\n",
       "      <td>Storage</td>\n",
       "      <td>Tenex Lockers, Blue</td>\n",
       "      <td>408.300</td>\n",
       "      <td>2</td>\n",
       "      <td>0.0</td>\n",
       "      <td>106.1400</td>\n",
       "      <td>35.460</td>\n",
       "      <td>Medium</td>\n",
       "      <td>2011</td>\n",
       "      <td>816.600</td>\n",
       "    </tr>\n",
       "    <tr>\n",
       "      <th>1</th>\n",
       "      <td>IN-2011-47883</td>\n",
       "      <td>2011-01-01</td>\n",
       "      <td>2011-01-08</td>\n",
       "      <td>Standard Class</td>\n",
       "      <td>Joseph Holt</td>\n",
       "      <td>Consumer</td>\n",
       "      <td>New South Wales</td>\n",
       "      <td>Australia</td>\n",
       "      <td>APAC</td>\n",
       "      <td>Oceania</td>\n",
       "      <td>...</td>\n",
       "      <td>Supplies</td>\n",
       "      <td>Acme Trimmer, High Speed</td>\n",
       "      <td>120.366</td>\n",
       "      <td>3</td>\n",
       "      <td>0.1</td>\n",
       "      <td>36.0360</td>\n",
       "      <td>9.720</td>\n",
       "      <td>Medium</td>\n",
       "      <td>2011</td>\n",
       "      <td>361.098</td>\n",
       "    </tr>\n",
       "    <tr>\n",
       "      <th>4</th>\n",
       "      <td>IN-2011-47883</td>\n",
       "      <td>2011-01-01</td>\n",
       "      <td>2011-01-08</td>\n",
       "      <td>Standard Class</td>\n",
       "      <td>Joseph Holt</td>\n",
       "      <td>Consumer</td>\n",
       "      <td>New South Wales</td>\n",
       "      <td>Australia</td>\n",
       "      <td>APAC</td>\n",
       "      <td>Oceania</td>\n",
       "      <td>...</td>\n",
       "      <td>Furnishings</td>\n",
       "      <td>Eldon Light Bulb, Duo Pack</td>\n",
       "      <td>113.670</td>\n",
       "      <td>5</td>\n",
       "      <td>0.1</td>\n",
       "      <td>37.7700</td>\n",
       "      <td>4.700</td>\n",
       "      <td>Medium</td>\n",
       "      <td>2011</td>\n",
       "      <td>568.350</td>\n",
       "    </tr>\n",
       "    <tr>\n",
       "      <th>5</th>\n",
       "      <td>IN-2011-47883</td>\n",
       "      <td>2011-01-01</td>\n",
       "      <td>2011-01-08</td>\n",
       "      <td>Standard Class</td>\n",
       "      <td>Joseph Holt</td>\n",
       "      <td>Consumer</td>\n",
       "      <td>New South Wales</td>\n",
       "      <td>Australia</td>\n",
       "      <td>APAC</td>\n",
       "      <td>Oceania</td>\n",
       "      <td>...</td>\n",
       "      <td>Paper</td>\n",
       "      <td>Eaton Computer Printout Paper, 8.5 x 11</td>\n",
       "      <td>55.242</td>\n",
       "      <td>2</td>\n",
       "      <td>0.1</td>\n",
       "      <td>15.3420</td>\n",
       "      <td>1.800</td>\n",
       "      <td>Medium</td>\n",
       "      <td>2011</td>\n",
       "      <td>110.484</td>\n",
       "    </tr>\n",
       "    <tr>\n",
       "      <th>6</th>\n",
       "      <td>CA-2011-1510</td>\n",
       "      <td>2011-01-02</td>\n",
       "      <td>2011-01-06</td>\n",
       "      <td>Standard Class</td>\n",
       "      <td>Magdelene Morse</td>\n",
       "      <td>Consumer</td>\n",
       "      <td>Ontario</td>\n",
       "      <td>Canada</td>\n",
       "      <td>Canada</td>\n",
       "      <td>Canada</td>\n",
       "      <td>...</td>\n",
       "      <td>Machines</td>\n",
       "      <td>Okidata Inkjet, Wireless</td>\n",
       "      <td>314.220</td>\n",
       "      <td>1</td>\n",
       "      <td>0.0</td>\n",
       "      <td>3.1200</td>\n",
       "      <td>24.100</td>\n",
       "      <td>Medium</td>\n",
       "      <td>2011</td>\n",
       "      <td>314.220</td>\n",
       "    </tr>\n",
       "    <tr>\n",
       "      <th>...</th>\n",
       "      <td>...</td>\n",
       "      <td>...</td>\n",
       "      <td>...</td>\n",
       "      <td>...</td>\n",
       "      <td>...</td>\n",
       "      <td>...</td>\n",
       "      <td>...</td>\n",
       "      <td>...</td>\n",
       "      <td>...</td>\n",
       "      <td>...</td>\n",
       "      <td>...</td>\n",
       "      <td>...</td>\n",
       "      <td>...</td>\n",
       "      <td>...</td>\n",
       "      <td>...</td>\n",
       "      <td>...</td>\n",
       "      <td>...</td>\n",
       "      <td>...</td>\n",
       "      <td>...</td>\n",
       "      <td>...</td>\n",
       "      <td>...</td>\n",
       "    </tr>\n",
       "    <tr>\n",
       "      <th>51284</th>\n",
       "      <td>MX-2014-108574</td>\n",
       "      <td>2014-12-31</td>\n",
       "      <td>2015-01-04</td>\n",
       "      <td>Standard Class</td>\n",
       "      <td>Julia Barnett</td>\n",
       "      <td>Home Office</td>\n",
       "      <td>Tamaulipas</td>\n",
       "      <td>Mexico</td>\n",
       "      <td>LATAM</td>\n",
       "      <td>North</td>\n",
       "      <td>...</td>\n",
       "      <td>Labels</td>\n",
       "      <td>Novimex Legal Exhibit Labels, Adjustable</td>\n",
       "      <td>16.740</td>\n",
       "      <td>3</td>\n",
       "      <td>0.0</td>\n",
       "      <td>0.6600</td>\n",
       "      <td>1.324</td>\n",
       "      <td>Medium</td>\n",
       "      <td>2014</td>\n",
       "      <td>50.220</td>\n",
       "    </tr>\n",
       "    <tr>\n",
       "      <th>51285</th>\n",
       "      <td>CA-2014-115427</td>\n",
       "      <td>2014-12-31</td>\n",
       "      <td>2015-01-04</td>\n",
       "      <td>Standard Class</td>\n",
       "      <td>Erica Bern</td>\n",
       "      <td>Corporate</td>\n",
       "      <td>California</td>\n",
       "      <td>United States</td>\n",
       "      <td>US</td>\n",
       "      <td>West</td>\n",
       "      <td>...</td>\n",
       "      <td>Binders</td>\n",
       "      <td>Cardinal Slant-D Ring Binder, Heavy Gauge Vinyl</td>\n",
       "      <td>13.904</td>\n",
       "      <td>2</td>\n",
       "      <td>0.2</td>\n",
       "      <td>4.5188</td>\n",
       "      <td>0.890</td>\n",
       "      <td>Medium</td>\n",
       "      <td>2014</td>\n",
       "      <td>27.808</td>\n",
       "    </tr>\n",
       "    <tr>\n",
       "      <th>51286</th>\n",
       "      <td>MO-2014-2560</td>\n",
       "      <td>2014-12-31</td>\n",
       "      <td>2015-01-05</td>\n",
       "      <td>Standard Class</td>\n",
       "      <td>Liz Preis</td>\n",
       "      <td>Consumer</td>\n",
       "      <td>Souss-Massa-Draâ</td>\n",
       "      <td>Morocco</td>\n",
       "      <td>Africa</td>\n",
       "      <td>Africa</td>\n",
       "      <td>...</td>\n",
       "      <td>Binders</td>\n",
       "      <td>Wilson Jones Hole Reinforcements, Clear</td>\n",
       "      <td>3.990</td>\n",
       "      <td>1</td>\n",
       "      <td>0.0</td>\n",
       "      <td>0.4200</td>\n",
       "      <td>0.490</td>\n",
       "      <td>Medium</td>\n",
       "      <td>2014</td>\n",
       "      <td>3.990</td>\n",
       "    </tr>\n",
       "    <tr>\n",
       "      <th>51288</th>\n",
       "      <td>MX-2014-114783</td>\n",
       "      <td>2014-12-31</td>\n",
       "      <td>2015-01-06</td>\n",
       "      <td>Standard Class</td>\n",
       "      <td>Tamara Dahlen</td>\n",
       "      <td>Consumer</td>\n",
       "      <td>Chihuahua</td>\n",
       "      <td>Mexico</td>\n",
       "      <td>LATAM</td>\n",
       "      <td>North</td>\n",
       "      <td>...</td>\n",
       "      <td>Labels</td>\n",
       "      <td>Hon Legal Exhibit Labels, Alphabetical</td>\n",
       "      <td>7.120</td>\n",
       "      <td>1</td>\n",
       "      <td>0.0</td>\n",
       "      <td>0.5600</td>\n",
       "      <td>0.199</td>\n",
       "      <td>Medium</td>\n",
       "      <td>2014</td>\n",
       "      <td>7.120</td>\n",
       "    </tr>\n",
       "    <tr>\n",
       "      <th>51289</th>\n",
       "      <td>CA-2014-156720</td>\n",
       "      <td>2014-12-31</td>\n",
       "      <td>2015-01-04</td>\n",
       "      <td>Standard Class</td>\n",
       "      <td>Jill Matthias</td>\n",
       "      <td>Consumer</td>\n",
       "      <td>Colorado</td>\n",
       "      <td>United States</td>\n",
       "      <td>US</td>\n",
       "      <td>West</td>\n",
       "      <td>...</td>\n",
       "      <td>Fasteners</td>\n",
       "      <td>Bagged Rubber Bands</td>\n",
       "      <td>3.024</td>\n",
       "      <td>3</td>\n",
       "      <td>0.2</td>\n",
       "      <td>-0.6048</td>\n",
       "      <td>0.170</td>\n",
       "      <td>Medium</td>\n",
       "      <td>2014</td>\n",
       "      <td>9.072</td>\n",
       "    </tr>\n",
       "  </tbody>\n",
       "</table>\n",
       "<p>30775 rows × 22 columns</p>\n",
       "</div>\n",
       "      <button class=\"colab-df-convert\" onclick=\"convertToInteractive('df-59eeb4e0-3525-43b7-a31e-5a2842bdc228')\"\n",
       "              title=\"Convert this dataframe to an interactive table.\"\n",
       "              style=\"display:none;\">\n",
       "        \n",
       "  <svg xmlns=\"http://www.w3.org/2000/svg\" height=\"24px\"viewBox=\"0 0 24 24\"\n",
       "       width=\"24px\">\n",
       "    <path d=\"M0 0h24v24H0V0z\" fill=\"none\"/>\n",
       "    <path d=\"M18.56 5.44l.94 2.06.94-2.06 2.06-.94-2.06-.94-.94-2.06-.94 2.06-2.06.94zm-11 1L8.5 8.5l.94-2.06 2.06-.94-2.06-.94L8.5 2.5l-.94 2.06-2.06.94zm10 10l.94 2.06.94-2.06 2.06-.94-2.06-.94-.94-2.06-.94 2.06-2.06.94z\"/><path d=\"M17.41 7.96l-1.37-1.37c-.4-.4-.92-.59-1.43-.59-.52 0-1.04.2-1.43.59L10.3 9.45l-7.72 7.72c-.78.78-.78 2.05 0 2.83L4 21.41c.39.39.9.59 1.41.59.51 0 1.02-.2 1.41-.59l7.78-7.78 2.81-2.81c.8-.78.8-2.07 0-2.86zM5.41 20L4 18.59l7.72-7.72 1.47 1.35L5.41 20z\"/>\n",
       "  </svg>\n",
       "      </button>\n",
       "      \n",
       "  <style>\n",
       "    .colab-df-container {\n",
       "      display:flex;\n",
       "      flex-wrap:wrap;\n",
       "      gap: 12px;\n",
       "    }\n",
       "\n",
       "    .colab-df-convert {\n",
       "      background-color: #E8F0FE;\n",
       "      border: none;\n",
       "      border-radius: 50%;\n",
       "      cursor: pointer;\n",
       "      display: none;\n",
       "      fill: #1967D2;\n",
       "      height: 32px;\n",
       "      padding: 0 0 0 0;\n",
       "      width: 32px;\n",
       "    }\n",
       "\n",
       "    .colab-df-convert:hover {\n",
       "      background-color: #E2EBFA;\n",
       "      box-shadow: 0px 1px 2px rgba(60, 64, 67, 0.3), 0px 1px 3px 1px rgba(60, 64, 67, 0.15);\n",
       "      fill: #174EA6;\n",
       "    }\n",
       "\n",
       "    [theme=dark] .colab-df-convert {\n",
       "      background-color: #3B4455;\n",
       "      fill: #D2E3FC;\n",
       "    }\n",
       "\n",
       "    [theme=dark] .colab-df-convert:hover {\n",
       "      background-color: #434B5C;\n",
       "      box-shadow: 0px 1px 3px 1px rgba(0, 0, 0, 0.15);\n",
       "      filter: drop-shadow(0px 1px 2px rgba(0, 0, 0, 0.3));\n",
       "      fill: #FFFFFF;\n",
       "    }\n",
       "  </style>\n",
       "\n",
       "      <script>\n",
       "        const buttonEl =\n",
       "          document.querySelector('#df-59eeb4e0-3525-43b7-a31e-5a2842bdc228 button.colab-df-convert');\n",
       "        buttonEl.style.display =\n",
       "          google.colab.kernel.accessAllowed ? 'block' : 'none';\n",
       "\n",
       "        async function convertToInteractive(key) {\n",
       "          const element = document.querySelector('#df-59eeb4e0-3525-43b7-a31e-5a2842bdc228');\n",
       "          const dataTable =\n",
       "            await google.colab.kernel.invokeFunction('convertToInteractive',\n",
       "                                                     [key], {});\n",
       "          if (!dataTable) return;\n",
       "\n",
       "          const docLinkHtml = 'Like what you see? Visit the ' +\n",
       "            '<a target=\"_blank\" href=https://colab.research.google.com/notebooks/data_table.ipynb>data table notebook</a>'\n",
       "            + ' to learn more about interactive tables.';\n",
       "          element.innerHTML = '';\n",
       "          dataTable['output_type'] = 'display_data';\n",
       "          await google.colab.output.renderOutput(dataTable, element);\n",
       "          const docLink = document.createElement('div');\n",
       "          docLink.innerHTML = docLinkHtml;\n",
       "          element.appendChild(docLink);\n",
       "        }\n",
       "      </script>\n",
       "    </div>\n",
       "  </div>\n",
       "  "
      ],
      "text/plain": [
       "             order_id order_date  ship_date       ship_mode    customer_name  \\\n",
       "0        AG-2011-2040 2011-01-01 2011-01-06  Standard Class  Toby Braunhardt   \n",
       "1       IN-2011-47883 2011-01-01 2011-01-08  Standard Class      Joseph Holt   \n",
       "4       IN-2011-47883 2011-01-01 2011-01-08  Standard Class      Joseph Holt   \n",
       "5       IN-2011-47883 2011-01-01 2011-01-08  Standard Class      Joseph Holt   \n",
       "6        CA-2011-1510 2011-01-02 2011-01-06  Standard Class  Magdelene Morse   \n",
       "...               ...        ...        ...             ...              ...   \n",
       "51284  MX-2014-108574 2014-12-31 2015-01-04  Standard Class    Julia Barnett   \n",
       "51285  CA-2014-115427 2014-12-31 2015-01-04  Standard Class       Erica Bern   \n",
       "51286    MO-2014-2560 2014-12-31 2015-01-05  Standard Class        Liz Preis   \n",
       "51288  MX-2014-114783 2014-12-31 2015-01-06  Standard Class    Tamara Dahlen   \n",
       "51289  CA-2014-156720 2014-12-31 2015-01-04  Standard Class    Jill Matthias   \n",
       "\n",
       "           segment             state        country  market   region  ...  \\\n",
       "0         Consumer       Constantine        Algeria  Africa   Africa  ...   \n",
       "1         Consumer   New South Wales      Australia    APAC  Oceania  ...   \n",
       "4         Consumer   New South Wales      Australia    APAC  Oceania  ...   \n",
       "5         Consumer   New South Wales      Australia    APAC  Oceania  ...   \n",
       "6         Consumer           Ontario         Canada  Canada   Canada  ...   \n",
       "...            ...               ...            ...     ...      ...  ...   \n",
       "51284  Home Office        Tamaulipas         Mexico   LATAM    North  ...   \n",
       "51285    Corporate        California  United States      US     West  ...   \n",
       "51286     Consumer  Souss-Massa-Draâ        Morocco  Africa   Africa  ...   \n",
       "51288     Consumer         Chihuahua         Mexico   LATAM    North  ...   \n",
       "51289     Consumer          Colorado  United States      US     West  ...   \n",
       "\n",
       "      sub_category                                     product_name    sales  \\\n",
       "0          Storage                              Tenex Lockers, Blue  408.300   \n",
       "1         Supplies                         Acme Trimmer, High Speed  120.366   \n",
       "4      Furnishings                       Eldon Light Bulb, Duo Pack  113.670   \n",
       "5            Paper          Eaton Computer Printout Paper, 8.5 x 11   55.242   \n",
       "6         Machines                         Okidata Inkjet, Wireless  314.220   \n",
       "...            ...                                              ...      ...   \n",
       "51284       Labels         Novimex Legal Exhibit Labels, Adjustable   16.740   \n",
       "51285      Binders  Cardinal Slant-D Ring Binder, Heavy Gauge Vinyl   13.904   \n",
       "51286      Binders          Wilson Jones Hole Reinforcements, Clear    3.990   \n",
       "51288       Labels           Hon Legal Exhibit Labels, Alphabetical    7.120   \n",
       "51289    Fasteners                              Bagged Rubber Bands    3.024   \n",
       "\n",
       "      quantity  discount    profit  shipping_cost  order_priority  year  \\\n",
       "0            2       0.0  106.1400         35.460          Medium  2011   \n",
       "1            3       0.1   36.0360          9.720          Medium  2011   \n",
       "4            5       0.1   37.7700          4.700          Medium  2011   \n",
       "5            2       0.1   15.3420          1.800          Medium  2011   \n",
       "6            1       0.0    3.1200         24.100          Medium  2011   \n",
       "...        ...       ...       ...            ...             ...   ...   \n",
       "51284        3       0.0    0.6600          1.324          Medium  2014   \n",
       "51285        2       0.2    4.5188          0.890          Medium  2014   \n",
       "51286        1       0.0    0.4200          0.490          Medium  2014   \n",
       "51288        1       0.0    0.5600          0.199          Medium  2014   \n",
       "51289        3       0.2   -0.6048          0.170          Medium  2014   \n",
       "\n",
       "      total_sales  \n",
       "0         816.600  \n",
       "1         361.098  \n",
       "4         568.350  \n",
       "5         110.484  \n",
       "6         314.220  \n",
       "...           ...  \n",
       "51284      50.220  \n",
       "51285      27.808  \n",
       "51286       3.990  \n",
       "51288       7.120  \n",
       "51289       9.072  \n",
       "\n",
       "[30775 rows x 22 columns]"
      ]
     },
     "execution_count": 63,
     "metadata": {},
     "output_type": "execute_result"
    }
   ],
   "source": [
    "df[df['ship_mode']== 'Standard Class']"
   ]
  },
  {
   "cell_type": "markdown",
   "metadata": {
    "id": "jtM-_GmSC4pR"
   },
   "source": [
    "**Shipping Cost for each Region**"
   ]
  },
  {
   "cell_type": "code",
   "execution_count": 41,
   "metadata": {
    "colab": {
     "base_uri": "https://localhost:8080/"
    },
    "id": "umvunSMEAs-a",
    "outputId": "f49cfd29-fb7c-4142-aae0-da153f506af2"
   },
   "outputs": [
    {
     "data": {
      "text/plain": [
       "region\n",
       "Central           296939.1000\n",
       "South             168472.7515\n",
       "North             131472.6480\n",
       "Oceania           120628.5100\n",
       "North Asia         95030.6100\n",
       "Southeast Asia     93675.8440\n",
       "EMEA               88375.7300\n",
       "Africa             88139.4700\n",
       "Central Asia       77830.1500\n",
       "West               76512.2639\n",
       "East               72743.6200\n",
       "Caribbean          35589.3760\n",
       "Canada              7405.6300\n",
       "Name: shipping_cost, dtype: float64"
      ]
     },
     "execution_count": 41,
     "metadata": {},
     "output_type": "execute_result"
    }
   ],
   "source": [
    "cost_by_region = df.groupby('region')['shipping_cost'].sum().sort_values(ascending=False)\n",
    "cost_by_region"
   ]
  },
  {
   "cell_type": "code",
   "execution_count": 42,
   "metadata": {
    "colab": {
     "base_uri": "https://localhost:8080/",
     "height": 432
    },
    "id": "QPXXL9VUCrMe",
    "outputId": "1b83727e-74d5-467c-8385-cef060f2fafb"
   },
   "outputs": [
    {
     "data": {
      "text/plain": [
       "<matplotlib.axes._subplots.AxesSubplot at 0x7f368f0bebd0>"
      ]
     },
     "execution_count": 42,
     "metadata": {},
     "output_type": "execute_result"
    },
    {
     "data": {
      "image/png": "[encoded data removed]",
      "text/plain": [
       "<Figure size 432x360 with 1 Axes>"
      ]
     },
     "metadata": {
      "needs_background": "light"
     },
     "output_type": "display_data"
    }
   ],
   "source": [
    "cost_by_region.plot(kind='bar', title='Cost Incurred by Each Region', ylabel='Total Cost',\n",
    "         xlabel='Region', figsize=(6, 5))"
   ]
  },
  {
   "cell_type": "markdown",
   "metadata": {
    "id": "LHeZgwP2iPTv"
   },
   "source": []
  },
  {
   "cell_type": "markdown",
   "metadata": {
    "id": "5jjXh8YriWR6"
   },
   "source": [
    "**Number of Sales per category**"
   ]
  },
  {
   "cell_type": "code",
   "execution_count": 69,
   "metadata": {
    "colab": {
     "base_uri": "https://localhost:8080/"
    },
    "id": "qbTKLWzPiNnT",
    "outputId": "87eb8176-0be9-4a7e-be20-3ad9bd75ee12"
   },
   "outputs": [
    {
     "data": {
      "text/plain": [
       "Office Supplies    31273\n",
       "Technology         10141\n",
       "Furniture           9876\n",
       "Name: category, dtype: int64"
      ]
     },
     "execution_count": 69,
     "metadata": {},
     "output_type": "execute_result"
    }
   ],
   "source": [
    "df['category'].value_counts()"
   ]
  },
  {
   "cell_type": "code",
   "execution_count": 43,
   "metadata": {
    "colab": {
     "base_uri": "https://localhost:8080/"
    },
    "id": "I0anmQk5CsYV",
    "outputId": "05c43fcd-cc27-4d4a-fcd4-8ebde007fddb"
   },
   "outputs": [
    {
     "data": {
      "text/plain": [
       "2014    17531\n",
       "2013    13799\n",
       "2012    10962\n",
       "2011     8998\n",
       "Name: year, dtype: int64"
      ]
     },
     "execution_count": 43,
     "metadata": {},
     "output_type": "execute_result"
    }
   ],
   "source": [
    "df['year'].value_counts()"
   ]
  },
  {
   "cell_type": "code",
   "execution_count": 44,
   "metadata": {
    "colab": {
     "base_uri": "https://localhost:8080/"
    },
    "id": "JllL_GeMKs_y",
    "outputId": "11501c17-e837-412d-bbe0-86d36cf9bd6c"
   },
   "outputs": [
    {
     "data": {
      "text/plain": [
       "year\n",
       "2011    2.259451e+06\n",
       "2012    2.677439e+06\n",
       "2013    3.405746e+06\n",
       "2014    4.299866e+06\n",
       "Name: sales, dtype: float64"
      ]
     },
     "execution_count": 44,
     "metadata": {},
     "output_type": "execute_result"
    }
   ],
   "source": [
    "sales_year = df.groupby('year')['sales'].sum().sort_values(ascending =True)\n",
    "sales_year"
   ]
  },
  {
   "cell_type": "code",
   "execution_count": 45,
   "metadata": {
    "colab": {
     "base_uri": "https://localhost:8080/",
     "height": 312
    },
    "id": "1uATu2PSK7BC",
    "outputId": "7748618c-5e9a-4995-efca-661e170b70d5"
   },
   "outputs": [
    {
     "data": {
      "text/plain": [
       "<matplotlib.axes._subplots.AxesSubplot at 0x7f368d22ecd0>"
      ]
     },
     "execution_count": 45,
     "metadata": {},
     "output_type": "execute_result"
    },
    {
     "data": {
      "image/png": "[encoded data removed]",
      "text/plain": [
       "<Figure size 360x288 with 1 Axes>"
      ]
     },
     "metadata": {
      "needs_background": "light"
     },
     "output_type": "display_data"
    }
   ],
   "source": [
    "sales_year.plot(kind='barh', title='Total Sales by Year ', ylabel='Total sales', figsize=(5, 4))"
   ]
  },
  {
   "cell_type": "markdown",
   "metadata": {
    "id": "kTk2SLeIMfI3"
   },
   "source": [
    "***Lets assume each row contains daily sales record so we can conduct a test  to compare the average daily sales of the current year with the previous year*** <br> <br>\n",
    "We will conduct an independent sample t-test to compare of the mean daily sales of 2014 and 2013 assuming the parametric assumption is met (Law of Large Number)."
   ]
  },
  {
   "cell_type": "code",
   "execution_count": 46,
   "metadata": {
    "colab": {
     "base_uri": "https://localhost:8080/"
    },
    "id": "U_2wFc7YCsqk",
    "outputId": "841de2bd-a123-4fdf-ec43-64a72883278c"
   },
   "outputs": [
    {
     "name": "stdout",
     "output_type": "stream",
     "text": [
      "   Variable        N        Mean          SD        SE   95% Conf.    Interval\n",
      "0      2013  13799.0  246.811106  494.719419  4.211484  238.556025  255.066187\n",
      "1      2014  17531.0  245.272139  477.630355  3.607352  238.201370  252.342908\n",
      "2  combined  31330.0  245.949962  485.224032  2.741335  240.576837  251.323088\n"
     ]
    }
   ],
   "source": [
    "summary, results = rp.ttest(group1= df['sales'][df['year'] == 2013], group1_name= \"2013\",\n",
    "                            group2= df['sales'][df['year'] == 2014], group2_name= \"2014\")\n",
    "print(summary)"
   ]
  },
  {
   "cell_type": "code",
   "execution_count": 47,
   "metadata": {
    "colab": {
     "base_uri": "https://localhost:8080/"
    },
    "id": "FyTD3wkrKbNm",
    "outputId": "84b21c5d-e48e-4316-9ee0-e4ceda0d8fdf"
   },
   "outputs": [
    {
     "name": "stdout",
     "output_type": "stream",
     "text": [
      "            Independent t-test     results\n",
      "0  Difference (2013 - 2014) =       1.5390\n",
      "1        Degrees of freedom =   31328.0000\n",
      "2                         t =       0.2787\n",
      "3     Two side test p value =       0.7805\n",
      "4    Difference < 0 p value =       0.6098\n",
      "5    Difference > 0 p value =       0.3902\n",
      "6                 Cohen's d =       0.0032\n",
      "7                 Hedge's g =       0.0032\n",
      "8            Glass's delta1 =       0.0031\n",
      "9          Point-Biserial r =       0.0016\n"
     ]
    }
   ],
   "source": [
    "print(results)"
   ]
  },
  {
   "cell_type": "markdown",
   "metadata": {
    "id": "qtp7MYvuMpGl"
   },
   "source": [
    "---\n",
    "**Conclusion:** There is no significant difference between the average daily sales in 2013 and 2014\n"
   ]
  },
  {
   "cell_type": "code",
   "execution_count": null,
   "metadata": {
    "collapsed": true,
    "id": "lBSv8_WpM4uZ"
   },
   "outputs": [],
   "source": []
  }
 ],
 "metadata": {
  "colab": {
   "provenance": []
  },
  "kernelspec": {
   "display_name": "Python 3",
   "language": "python",
   "name": "python3"
  },
  "language_info": {
   "codemirror_mode": {
    "name": "ipython",
    "version": 3
   },
   "file_extension": ".py",
   "mimetype": "text/x-python",
   "name": "python",
   "nbconvert_exporter": "python",
   "pygments_lexer": "ipython3",
   "version": "3.10.6"
  }
 },
 "nbformat": 4,
 "nbformat_minor": 1
}
